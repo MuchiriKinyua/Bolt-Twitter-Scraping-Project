{
 "cells": [
  {
   "cell_type": "markdown",
   "id": "3c3cdf79-c76d-46f7-926f-7cc972f6fb60",
   "metadata": {},
   "source": [
    "# Analyzing Public Sentiment on the #DeleteBoltApp Movement"
   ]
  },
  {
   "cell_type": "markdown",
   "id": "be0be885-079f-46e7-817c-629a061f985c",
   "metadata": {},
   "source": [
    "[1. Business Understanding](#1.-Business-Understanding) </br>\n",
    "[1.1 Business Description](#1.1-Business-Description) </br>\n",
    "[1.2 Problem Statement](#1.2-Problem-Statement) </br>\n",
    "[1.3 Main Objective](#1.3-Main-Objective) </br>\n",
    "[1.4 Specific Objectives](#1.4-Specific-Objectives) </br>\n",
    "[2. Importing Libraries And Warnings](#2.-Importing-Libraries-And-Warnings) </br>\n",
    "[3. Data Understanding](#3.-Data-Understanding) </br>\n",
    "[3.1 Information about the columns](#3.1-Information-About-The-Columns)</br>\n",
    "[4. Data Preparation](#4.-Data-Preparation) </br>\n",
    "[4.1 Visualizing Before Cleaning](#4.1-Visualizing-Before-Cleaning) </br>\n",
    "[4.2 Renaming The Columns](#4.2-Renaming-The-Columns) </br>\n",
    "[4.3 Missing Values](#4.3-Missing-Values) </br>\n",
    "[4.4 Duplicates](#4.4-Duplicates) </br>\n",
    "[4.5 Place Holders](#4.5-Place-Holders) </br>\n",
    "[4.6 White Space](#4.6-White-Space) </br>\n",
    "[4.7 Visualizing After Cleaning](#4.7-Visualizing-After-Cleaning) </br>\n",
    "[5. EDA](#5.-EDA) </br>\n",
    "[6. Data Preprocessing And Feature Engineering](#6.-Data-Preprocessing-And-Feature-Engineering) </br>\n",
    "[7. Data Modelling](#7.-Data-Modelling) </br>\n",
    "[8. Evaluation](#8.-Evaluation) </br>\n",
    "[9. Conclusions](#9.-Conclusions) </br>\n",
    "[10. Recommendations](#10.-Recommendations) </br>\n",
    "[11. Challenges](#11.-Challenges)"
   ]
  },
  {
   "cell_type": "markdown",
   "id": "45aafd6a-76a8-4354-a2c6-a3f3e6935490",
   "metadata": {},
   "source": [
    "# 1. Business Understanding"
   ]
  },
  {
   "cell_type": "markdown",
   "id": "c676d4a6-f1b5-4760-8499-fe65a334787d",
   "metadata": {},
   "source": [
    "## 1.1 Business Description"
   ]
  },
  {
   "cell_type": "markdown",
   "id": "76500b70-d7c3-49d7-98bb-73f80e29b5d4",
   "metadata": {},
   "source": [
    "This study will collect data from X (formerly Twitter) by harvesting tweets related to the #DeleteBoltApp and #DeleteBolt hashtags using a Python-based X scraper. The dataset will also include press releases shared by Bolt on the platform in response to the crisis. A purposive sampling approach will be used to ensure the collected data is relevant to the study's objectives.\n",
    "\n",
    "To facilitate data collection, a Twitter scraper implemented in Python will be utilized as the primary tool. The hashtags #DeleteBoltApp and #DeleteBolt will be the main keywords to extract tweets related to the protest. Purposive sampling is chosen because it focuses on cases rich in data, aligning with the qualitative research principles outlined by Lambert and Lambert (2012). Prior research by Chen, Duan, and Yang (2021) highlights Twitter as a valuable source of social media data for qualitative analysis."
   ]
  },
  {
   "cell_type": "markdown",
   "id": "c1285144-0c05-442d-880e-7cb2d0f38fe5",
   "metadata": {},
   "source": [
    "### Using a Python scraper offers several advantages:\n",
    "\n",
    "    Access to Real-Time, Publicly Available Data – Twitter provides a wealth of real-time data reflecting diverse voices, sentiments, and interactions around the protest.\n",
    "\n",
    "    Scalability and Efficiency – Python-based tools like Tweepy enable efficient retrieval of tweets based on search parameters, mentions, retweets, and replies, ensuring a comprehensive dataset.\n",
    "\n",
    "    Automation and Flexibility – Python scripts can automate data collection, filter tweets based on engagement metrics, and store structured data in Excel or other analysis-ready formats (Wisdom & Gupta, 2016)."
   ]
  },
  {
   "cell_type": "markdown",
   "id": "c92e363b-4b9a-423b-afbc-f4069dc9d20e",
   "metadata": {},
   "source": [
    "### Precedent for Twitter-Based Research\n",
    "\n",
    "Harvesting Twitter data has been widely used in communication research. For instance, Jiani (2023) successfully analyzed organizational crisis communication using X data, including corporate responses, public comments, and user interactions. Similarly, Zhang, Hun, and Park (2022) demonstrated how Twitter enables unobtrusive examination of human behavior.\n",
    "Challenges of Python-Based Web Scraping"
   ]
  },
  {
   "cell_type": "markdown",
   "id": "eb694108-f5a1-4441-8952-ae704056f99f",
   "metadata": {},
   "source": [
    "### Despite its advantages, Python-based scraping presents several challenges:\n",
    "\n",
    "    Technical and Infrastructure Constraints – Dynamic content, API limitations, and platform design changes can hinder data retrieval (Hughes, Chua, & Hutchings, 2021).\n",
    "\n",
    "    Rate Limits and Scalability Issues – Twitter imposes API rate limits, restricting the volume of data collected at a given time (Dogucu & Çetinkaya-Rundel, 2021).\n",
    "\n",
    "    Ethical and Legal Considerations – Data privacy, informed consent, and platform terms of service must be carefully managed (Krotov, Johnson, & Silva, 2020)."
   ]
  },
  {
   "cell_type": "markdown",
   "id": "d7e40e74-1b4f-42a0-943a-27d280b58430",
   "metadata": {},
   "source": [
    "#### Despite these limitations, the study will implement best practices in ethical data collection and utilize API-based scraping methods where possible to ensure compliance with Twitter’s policies."
   ]
  },
  {
   "cell_type": "markdown",
   "id": "fab43fd6-1379-4e25-9487-3fe5b88cdfb4",
   "metadata": {},
   "source": [
    "# 2. Importing Libraries And Warnings"
   ]
  },
  {
   "cell_type": "code",
   "execution_count": 1,
   "id": "c305d077-b80d-46b3-916b-ba72f2395f88",
   "metadata": {},
   "outputs": [],
   "source": [
    "import re\n",
    "import nltk\n",
    "import json\n",
    "import warnings\n",
    "%matplotlib inline\n",
    "import pandas as pd\n",
    "#from ntscraper import Nitter\n",
    "from nltk import word_tokenize\n",
    "import matplotlib.pyplot as plt\n",
    "from wordcloud import WordCloud\n",
    "warnings.filterwarnings(\"ignore\")\n",
    "from nltk.corpus import stopwords\n",
    "from gensim.models import Word2Vec\n",
    "from nltk.stem.wordnet import WordNetLemmatizer"
   ]
  },
  {
   "cell_type": "markdown",
   "id": "537a8ed6-1ec8-496c-93fe-5f33e4264c46",
   "metadata": {},
   "source": [
    "# 3. Data Understanding"
   ]
  },
  {
   "cell_type": "code",
   "execution_count": 2,
   "id": "57dc3050-a57c-478d-8a38-876fa6cc872d",
   "metadata": {},
   "outputs": [],
   "source": [
    "# # Define search terms\n",
    "# terms = [\"DeleteBoltApp\", \"DeleteBolt\"]\n",
    "\n",
    "# # Initialize scraper\n",
    "# scraper = Nitter()\n",
    "\n",
    "# # Fetch tweets\n",
    "# results = scraper.get_tweets(terms, mode='term', number=100)\n",
    "\n",
    "# # Save raw results to CSV\n",
    "# if results:\n",
    "#     pd.DataFrame(results).to_csv(\"DeleteBolt_Tweets_Raw.csv\", index=False)"
   ]
  },
  {
   "cell_type": "code",
   "execution_count": 3,
   "id": "b4999794-85aa-4833-9d30-b54d3ff36822",
   "metadata": {},
   "outputs": [],
   "source": [
    "# df = pd.DataFrame(results)\n",
    "# print(df.head())"
   ]
  },
  {
   "cell_type": "code",
   "execution_count": 4,
   "id": "e4ace294-5e28-4510-aaa6-f62d73e8c9f1",
   "metadata": {},
   "outputs": [],
   "source": [
    "# if results:\n",
    "#     with open(\"DeleteBolt_Tweets.json\", \"w\", encoding=\"utf-8\") as f:\n",
    "#         json.dump(results, f, ensure_ascii=False, indent=4)"
   ]
  },
  {
   "cell_type": "code",
   "execution_count": 5,
   "id": "bb3ba208-a93a-4b1d-9f1d-d3c73962ab0c",
   "metadata": {},
   "outputs": [],
   "source": [
    "# if results:\n",
    "#     pd.DataFrame(results).to_excel(\"DeleteBolt_Tweets.xlsx\", index=False)"
   ]
  },
  {
   "cell_type": "code",
   "execution_count": 6,
   "id": "b80bb8cf-3953-48d5-8266-6a868110616f",
   "metadata": {},
   "outputs": [
    {
     "name": "stdout",
     "output_type": "stream",
     "text": [
      "                                                link  \\\n",
      "0  https://twitter.com/gapae254/status/1716527034...   \n",
      "1  https://twitter.com/musyimijoseph_/status/1683...   \n",
      "2  https://twitter.com/Felinsky1/status/166920605...   \n",
      "3  https://twitter.com/GovOparanyaFan/status/1668...   \n",
      "4  https://twitter.com/Kevoh_Spice/status/1668888...   \n",
      "\n",
      "                                                text  \\\n",
      "0         You people still use Bolt?  #DeleteBoltApp   \n",
      "1                   Delete Bolt App ! #deleteboltapp   \n",
      "2                   Me: Amerix said.  #DeleteBoltApp   \n",
      "3  He said tiktok is for pussified men, I deleted...   \n",
      "4                              #DeleteBoltApp, Done.   \n",
      "\n",
      "                          date  is-retweet  is-pinned external-link  \\\n",
      "0   Oct 23, 2023 · 6:48 PM UTC       False      False                 \n",
      "1  Jul 25, 2023 · 10:19 AM UTC       False      False                 \n",
      "2   Jun 15, 2023 · 4:51 AM UTC       False      False                 \n",
      "3   Jun 14, 2023 · 3:01 PM UTC       False      False                 \n",
      "4   Jun 14, 2023 · 7:48 AM UTC       False      False                 \n",
      "\n",
      "  replying-to                                           pictures videos gifs  \\\n",
      "0          []                                                 []     []   []   \n",
      "1          []                                                 []     []   []   \n",
      "2   [@amerix]  [https://pbs.twimg.com/media/Fyo2EDRWYAEuP9q.jpg]     []   []   \n",
      "3   [@amerix]  [https://pbs.twimg.com/media/Fyl4HA1XgAAxpTL.jpg]     []   []   \n",
      "4   [@amerix]                                                 []     []   []   \n",
      "\n",
      "   ... quoted-post.link quoted-post.text quoted-post.date  \\\n",
      "0  ...              NaN              NaN              NaN   \n",
      "1  ...              NaN              NaN              NaN   \n",
      "2  ...              NaN              NaN              NaN   \n",
      "3  ...              NaN              NaN              NaN   \n",
      "4  ...              NaN              NaN              NaN   \n",
      "\n",
      "  quoted-post.pictures  quoted-post.videos  quoted-post.gifs  \\\n",
      "0                  NaN                 NaN               NaN   \n",
      "1                  NaN                 NaN               NaN   \n",
      "2                  NaN                 NaN               NaN   \n",
      "3                  NaN                 NaN               NaN   \n",
      "4                  NaN                 NaN               NaN   \n",
      "\n",
      "   quoted-post.user.name  quoted-post.user.username  \\\n",
      "0                    NaN                        NaN   \n",
      "1                    NaN                        NaN   \n",
      "2                    NaN                        NaN   \n",
      "3                    NaN                        NaN   \n",
      "4                    NaN                        NaN   \n",
      "\n",
      "  quoted-post.user.profile_id quoted-post.user.avatar  \n",
      "0                         NaN                     NaN  \n",
      "1                         NaN                     NaN  \n",
      "2                         NaN                     NaN  \n",
      "3                         NaN                     NaN  \n",
      "4                         NaN                     NaN  \n",
      "\n",
      "[5 rows x 28 columns]\n"
     ]
    }
   ],
   "source": [
    "# Load JSON file\n",
    "with open(\"DeleteBolt_Tweets.json\", \"r\") as f:\n",
    "    data = json.load(f)\n",
    "\n",
    "# Normalize the tweets field\n",
    "df = pd.json_normalize(data, record_path=[\"tweets\"])\n",
    "\n",
    "# Display the first few rows\n",
    "print(df.head())"
   ]
  },
  {
   "cell_type": "code",
   "execution_count": 7,
   "id": "1c96ce57-547b-4af7-a79e-f98e753bb1ce",
   "metadata": {},
   "outputs": [
    {
     "name": "stdout",
     "output_type": "stream",
     "text": [
      "<class 'list'>\n",
      "[{'tweets': [{'link': 'https://twitter.com/gapae254/status/1716527034636120163#m', 'text': 'You people still use Bolt?  #DeleteBoltApp', 'user': {'name': 'Thesage254', 'username': '@gapae254', 'profile_id': '1743544368898646016', 'avatar': 'https://pbs.twimg.com/profile_images/1743544368898646016/yfhUfAz9_bigger.jpg'}, 'date': 'Oct 23, 2023 · 6:48 PM UTC', 'is-retweet': False, 'is-pinned': False, 'external-link': '', 'replying-to': [], 'quoted-post': {}, 'stats': {'comments': 0, 'retweets': 0, 'quotes': 0, 'likes': 0}, 'pictures': [], 'videos': [], 'gifs': []}, {'link': 'https://twitter.com/musyimijoseph_/status/1683784052833128448#m', 'text': 'Delete Bolt App ! #deleteboltapp', 'user': {'name': 'Musyimi Joseph', 'username': '@musyimijoseph_', 'profile_id': '1631931334355550208', 'avatar': 'https://pbs.twimg.com/profile_images/1631931334355550208/mBp_ahbI_bigger.jpg'}, 'date': 'Jul 25, 2023 · 10:19 AM UTC', 'is-retweet': False, 'is-pinned': False, 'external-link': '', 'replying-to': [], 'quoted-post': {}, 'stats': {'comments': 3, 'retweets': 0, 'quotes': 0, 'likes': 7}, 'pictures': [], 'videos': [], 'gifs': []}, {'link': 'https://twitter.com/Felinsky1/status/1669206058034659330#m', 'text': 'Me: Amerix said.  #DeleteBoltApp', 'user': {'name': 'Felinsky™', 'username': '@Felinsky1', 'profile_id': '1605986531977609221', 'avatar': 'https://pbs.twimg.com/profile_images/1605986531977609221/MKx0oHpt_bigger.jpg'}, 'date': 'Jun 15, 2023 · 4:51 AM UTC', 'is-retweet': False, 'is-pinned': False, 'external-link': '', 'replying-to': ['@amerix'], 'quoted-post': {}, 'stats': {'comments': 0, 'retweets': 0, 'quotes': 0, 'likes': 0}, 'pictures': ['https://pbs.twimg.com/media/Fyo2EDRWYAEuP9q.jpg'], 'videos': [], 'gifs': []}, {'link': 'https://twitter.com/GovOparanyaFan/status/1668997202268618757#m', 'text': 'He said tiktok is for pussified men, I deleted the app.. He said I deserve better; done with #DeleteBoltApp', 'user': {'name': 'Livingstone Amunga', 'username': '@GovOparanyaFan', 'profile_id': '1811042228263079944', 'avatar': 'https://pbs.twimg.com/profile_images/1811042228263079944/ZR1OWwom_bigger.jpg'}, 'date': 'Jun 14, 2023 · 3:01 PM UTC', 'is-retweet': False, 'is-pinned': False, 'external-link': '', 'replying-to': ['@amerix'], 'quoted-post': {}, 'stats': {'comments': 0, 'retweets': 0, 'quotes': 0, 'likes': 2}, 'pictures': ['https://pbs.twimg.com/media/Fyl4HA1XgAAxpTL.jpg'], 'videos': [], 'gifs': []}, {'link': 'https://twitter.com/Kevoh_Spice/status/1668888059880828930#m', 'text': '#DeleteBoltApp, Done.', 'user': {'name': 'Kamau Kelvin Spice', 'username': '@Kevoh_Spice', 'profile_id': '1692100899701686272', 'avatar': 'https://pbs.twimg.com/profile_images/1692100899701686272/Bm2HNiG3_bigger.jpg'}, 'date': 'Jun 14, 2023 · 7:48 AM UTC', 'is-retweet': False, 'is-pinned': False, 'external-link': '', 'replying-to': ['@amerix'], 'quoted-post': {}, 'stats': {'comments': 0, 'retweets': 0, 'quotes': 0, 'likes': 1}, 'pictures': [], 'videos': [], 'gifs': []}, {'link': 'https://twitter.com/mtumepaul13/status/1668558498521665536#m', 'text': '@Boltapp_ke #deleteboltapp I totally agree the worst service provider app no office no response or feedback', 'user': {'name': 'son of Gaitumbishire', 'username': '@mtumepaul13', 'profile_id': '1803758615796264962', 'avatar': 'https://pbs.twimg.com/profile_images/1803758615796264962/mfTfscSB_bigger.jpg'}, 'date': 'Jun 13, 2023 · 9:58 AM UTC', 'is-retweet': False, 'is-pinned': False, 'external-link': '', 'replying-to': ['@T_Gathoni'], 'quoted-post': {}, 'stats': {'comments': 2, 'retweets': 0, 'quotes': 0, 'likes': 16}, 'pictures': [], 'videos': [], 'gifs': []}, {'link': 'https://twitter.com/BabjiiBabjii/status/1668553580649799682#m', 'text': 'Bolt ride is a disaster in waiting trip, you choose to ride cheaply, you get cheap, crappy, unruly service.  #DeleteBoltApp.', 'user': {'name': 'BabjiiBabjii', 'username': '@BabjiiBabjii', 'profile_id': '1830968671738429440', 'avatar': 'https://pbs.twimg.com/profile_images/1830968671738429440/8GPxlpdO_bigger.jpg'}, 'date': 'Jun 13, 2023 · 9:39 AM UTC', 'is-retweet': False, 'is-pinned': False, 'external-link': '', 'replying-to': [], 'quoted-post': {'link': '', 'text': '', 'user': {}, 'date': '', 'pictures': [], 'videos': [], 'gifs': []}, 'stats': {'comments': 0, 'retweets': 0, 'quotes': 0, 'likes': 0}, 'pictures': [], 'videos': [], 'gifs': []}, {'link': 'https://twitter.com/theonlybee3000/status/1668527697708949506#m', 'text': 'This thread shows the neglect in the comments #DeleteBoltApp', 'user': {'name': 'Bōitumęlō🌺', 'username': '@theonlybee3000', 'profile_id': '1878351561081884672', 'avatar': 'https://pbs.twimg.com/profile_images/1878351561081884672/KnFRnF-R_bigger.jpg'}, 'date': 'Jun 13, 2023 · 7:56 AM UTC', 'is-retweet': False, 'is-pinned': False, 'external-link': '', 'replying-to': [], 'quoted-post': {'link': '', 'text': '', 'user': {}, 'date': '', 'pictures': [], 'videos': [], 'gifs': []}, 'stats': {'comments': 0, 'retweets': 1, 'quotes': 0, 'likes': 0}, 'pictures': [], 'videos': [], 'gifs': []}, {'link': 'https://twitter.com/theonlybee3000/status/1668526132184899584#m', 'text': \"They won't help you #deleteboltapp\", 'user': {'name': 'Bōitumęlō🌺', 'username': '@theonlybee3000', 'profile_id': '1878351561081884672', 'avatar': 'https://pbs.twimg.com/profile_images/1878351561081884672/KnFRnF-R_bigger.jpg'}, 'date': 'Jun 13, 2023 · 7:50 AM UTC', 'is-retweet': False, 'is-pinned': False, 'external-link': '', 'replying-to': [], 'quoted-post': {}, 'stats': {'comments': 0, 'retweets': 0, 'quotes': 0, 'likes': 1}, 'pictures': [], 'videos': [], 'gifs': []}, {'link': 'https://twitter.com/manucho__ke/status/1668523053272186883#m', 'text': 'You are not sad and not ready to help.Everytime people complain but you do nothing. #deleteboltapp', 'user': {'name': 'Manucho 🤍', 'username': '@manucho__ke', 'profile_id': '1809190694017462272', 'avatar': 'https://pbs.twimg.com/profile_images/1809190694017462272/baNu5nC2_bigger.jpg'}, 'date': 'Jun 13, 2023 · 7:37 AM UTC', 'is-retweet': False, 'is-pinned': False, 'external-link': '', 'replying-to': [], 'quoted-post': {}, 'stats': {'comments': 0, 'retweets': 0, 'quotes': 0, 'likes': 4}, 'pictures': [], 'videos': [], 'gifs': []}, {'link': 'https://twitter.com/mtumepaul13/status/1634440847919026176#m', 'text': '@boltapp its now 2 days since your app erroneously charged a trip of 11km exorbitant and unimaginable figure 26140kshs yet you have not resolved the issue #deleteboltapp', 'user': {'name': 'son of Gaitumbishire', 'username': '@mtumepaul13', 'profile_id': '1803758615796264962', 'avatar': 'https://pbs.twimg.com/profile_images/1803758615796264962/mfTfscSB_bigger.jpg'}, 'date': 'Mar 11, 2023 · 6:27 AM UTC', 'is-retweet': False, 'is-pinned': False, 'external-link': '', 'replying-to': [], 'quoted-post': {}, 'stats': {'comments': 2, 'retweets': 0, 'quotes': 0, 'likes': 0}, 'pictures': [], 'videos': [], 'gifs': []}, {'link': 'https://twitter.com/everdayehailing/status/1628670942476894208#m', 'text': 'So glad you managed to make it out untouched but the trauma💔, honestly we are sick and tired of bolt putting our women in harms way.  @Boltapp_za you really need to sort yourselves out or we will do it for you.  #cancelbolt #deleteboltapp #protectourwomen #ehailing #bolt', 'user': {'name': 'EveryDayUpdates', 'username': '@everdayehailing', 'profile_id': '1615966271438295041', 'avatar': 'https://pbs.twimg.com/profile_images/1615966271438295041/R2gkyvgc_bigger.jpg'}, 'date': 'Feb 23, 2023 · 8:19 AM UTC', 'is-retweet': False, 'is-pinned': False, 'external-link': '', 'replying-to': ['@nokuthulaxo'], 'quoted-post': {}, 'stats': {'comments': 0, 'retweets': 0, 'quotes': 0, 'likes': 0}, 'pictures': [], 'videos': [], 'gifs': []}, {'link': 'https://twitter.com/juliuswanjiru84/status/1591300310852857856#m', 'text': \"#deleteboltapp they don't give a chill\", 'user': {'name': 'Julius Ndiangui', 'username': '@juliuswanjiru84', 'profile_id': '1242131440541761541', 'avatar': 'https://pbs.twimg.com/profile_images/1242131440541761541/D0seDYhh_bigger.jpg'}, 'date': 'Nov 12, 2022 · 5:22 AM UTC', 'is-retweet': False, 'is-pinned': False, 'external-link': '', 'replying-to': [], 'quoted-post': {'link': 'https://twitter.com/juliuswanjiru84/status/1591129343539183616#m', 'text': '@Boltapp_ke is the worst cab app, they have no regards for drivers, A passenger has cancelled before I got to them and I was charged ksh112 ..this is not the first time time ..I have tried getting intouch but where would you even start ..no office ...no call support Nikita', 'user': {'name': 'Julius Ndiangui', 'username': '@juliuswanjiru84', 'profile_id': '1242131440541761541', 'avatar': 'https://pbs.twimg.com/profile_images/1242131440541761541/D0seDYhh_mini.jpg'}, 'date': 'Nov 11, 2022 · 6:02 PM UTC', 'pictures': [], 'videos': [], 'gifs': []}, 'stats': {'comments': 0, 'retweets': 0, 'quotes': 0, 'likes': 0}, 'pictures': [], 'videos': [], 'gifs': []}, {'link': 'https://twitter.com/KenyanTraffic/status/1590601830198759425#m', 'text': '#deleteboltapp @boltapp_ke  u pple blocking kenya drivers coz of impersonation while u dont  confirm with the driver   u did comply with @ntsa_kenya  and dont have office in kenya @ma3route #KenyanTraffic Via @goodchance_', 'user': {'name': 'KenyanTraffic', 'username': '@KenyanTraffic', 'profile_id': '1505260367693639680', 'avatar': 'https://pbs.twimg.com/profile_images/1505260367693639680/vau7w6-z_bigger.jpg'}, 'date': 'Nov 10, 2022 · 7:06 AM UTC', 'is-retweet': False, 'is-pinned': False, 'external-link': '', 'replying-to': [], 'quoted-post': {}, 'stats': {'comments': 0, 'retweets': 0, 'quotes': 0, 'likes': 0}, 'pictures': [], 'videos': [], 'gifs': []}, {'link': 'https://twitter.com/KenyanTraffic/status/1590592645520187392#m', 'text': '#deleteboltapp @boltapp_ke  u pple blocking kenya drivers coz of impersonation while u dont  confirm with the driver   u did comply with @ntsa_kenya  and dont have office in kenya @ma3route Via @goodchance_', 'user': {'name': 'KenyanTraffic', 'username': '@KenyanTraffic', 'profile_id': '1505260367693639680', 'avatar': 'https://pbs.twimg.com/profile_images/1505260367693639680/vau7w6-z_bigger.jpg'}, 'date': 'Nov 10, 2022 · 6:30 AM UTC', 'is-retweet': False, 'is-pinned': False, 'external-link': '', 'replying-to': [], 'quoted-post': {}, 'stats': {'comments': 0, 'retweets': 0, 'quotes': 0, 'likes': 0}, 'pictures': [], 'videos': [], 'gifs': []}, {'link': 'https://twitter.com/KenyanTraffic/status/1575032588187865089#m', 'text': '#deleteboltapp    @boltapp_ke u pple lying to drivers & @ntsa_kenya  that u commission is 17.24%   trip of 200 = 165 but yours is 155 #KenyanTraffic Via @goodchance_', 'user': {'name': 'KenyanTraffic', 'username': '@KenyanTraffic', 'profile_id': '1505260367693639680', 'avatar': 'https://pbs.twimg.com/profile_images/1505260367693639680/vau7w6-z_bigger.jpg'}, 'date': 'Sep 28, 2022 · 8:00 AM UTC', 'is-retweet': False, 'is-pinned': False, 'external-link': '', 'replying-to': [], 'quoted-post': {}, 'stats': {'comments': 0, 'retweets': 0, 'quotes': 0, 'likes': 0}, 'pictures': [], 'videos': [], 'gifs': []}, {'link': 'https://twitter.com/AlexTy56/status/1537409426348560385#m', 'text': 'Why Bolt Cab Hailing App is Trending on Twitter #DeleteBoltApp https://capitalnews.co.ke/2021/09/17/why-bolt-cab-hailing-app-is-trending-on-twitter-deleteboltapp/?utm_source=ReviveOldPost&utm_medium=social&utm_campaign=ReviveOldPost', 'user': {'name': 'Alex.', 'username': '@AlexTy56', 'profile_id': '1672235472720896002', 'avatar': 'https://pbs.twimg.com/profile_images/1672235472720896002/QT2-cL1X_bigger.jpg'}, 'date': 'Jun 16, 2022 · 12:19 PM UTC', 'is-retweet': False, 'is-pinned': False, 'external-link': '', 'replying-to': [], 'quoted-post': {}, 'stats': {'comments': 0, 'retweets': 0, 'quotes': 0, 'likes': 0}, 'pictures': [], 'videos': [], 'gifs': []}, {'link': 'https://twitter.com/EnLuchaVTC/status/1531652575669506051#m', 'text': 'Cuando descargas una app de pretendida \"#movilidad\" y esta acapara todo tipo de permisos de tu dispositivo, como la de #Bolt, estás aceptando un caballo de Troya en tu móvil. Como poco te va a spamear como a esta usuaria 📵   Eliminar cuenta #DeleteBoltApp https://support.taxify.eu/hc/es/articles/360000336273-Eliminar-mi-cuenta', 'user': {'name': 'Resistencia VTC', 'username': '@EnLuchaVTC', 'profile_id': '1876619019391770624', 'avatar': 'https://pbs.twimg.com/profile_images/1876619019391770624/nqShyaAe_bigger.jpg'}, 'date': 'May 31, 2022 · 3:03 PM UTC', 'is-retweet': False, 'is-pinned': False, 'external-link': '', 'replying-to': [], 'quoted-post': {'link': 'https://twitter.com/KomaDGH/status/1528884906994061312#m', 'text': 'A cambio de que deje de aparecer el horroroso anuncio de @boltapp en cada cosa que hago en el móvil, hago lo que sea.  Nunca en la vida me había cansado tanto un anuncio. Y encima, siendo tan nefasto.  He denunciado a Google y nada, sigue saliendo  NI GRATIS ME BAJO VUESTRA APP', 'user': {'name': 'LadyKoma #Turnedo', 'username': '@KomaDGH', 'profile_id': '529776039535206400', 'avatar': 'https://pbs.twimg.com/profile_images/529776039535206400/VGy26EZB_mini.jpeg'}, 'date': 'May 23, 2022 · 11:45 PM UTC', 'pictures': [], 'videos': [], 'gifs': []}, 'stats': {'comments': 2, 'retweets': 0, 'quotes': 0, 'likes': 3}, 'pictures': ['https://pbs.twimg.com/media/FUGFxLJXwAAuCL2.jpg'], 'videos': [], 'gifs': []}, {'link': 'https://twitter.com/AlexTy56/status/1522764054883934208#m', 'text': 'Why Bolt Cab Hailing App is Trending on Twitter #DeleteBoltApp https://capitalnews.co.ke/2021/09/17/why-bolt-cab-hailing-app-is-trending-on-twitter-deleteboltapp/?utm_source=ReviveOldPost&utm_medium=social&utm_campaign=ReviveOldPost', 'user': {'name': 'Alex.', 'username': '@AlexTy56', 'profile_id': '1672235472720896002', 'avatar': 'https://pbs.twimg.com/profile_images/1672235472720896002/QT2-cL1X_bigger.jpg'}, 'date': 'May 7, 2022 · 2:23 AM UTC', 'is-retweet': False, 'is-pinned': False, 'external-link': '', 'replying-to': [], 'quoted-post': {}, 'stats': {'comments': 0, 'retweets': 0, 'quotes': 0, 'likes': 0}, 'pictures': [], 'videos': [], 'gifs': []}, {'link': 'https://twitter.com/AlexTy56/status/1516874567008067590#m', 'text': 'Why Bolt Cab Hailing App is Trending on Twitter #DeleteBoltApp https://capitalnews.co.ke/2021/09/17/why-bolt-cab-hailing-app-is-trending-on-twitter-deleteboltapp/?utm_source=ReviveOldPost&utm_medium=social&utm_campaign=ReviveOldPost', 'user': {'name': 'Alex.', 'username': '@AlexTy56', 'profile_id': '1672235472720896002', 'avatar': 'https://pbs.twimg.com/profile_images/1672235472720896002/QT2-cL1X_bigger.jpg'}, 'date': 'Apr 20, 2022 · 8:20 PM UTC', 'is-retweet': False, 'is-pinned': False, 'external-link': '', 'replying-to': [], 'quoted-post': {}, 'stats': {'comments': 0, 'retweets': 0, 'quotes': 0, 'likes': 0}, 'pictures': [], 'videos': [], 'gifs': []}, {'link': 'https://twitter.com/IMNoreen256/status/1514873040953384965#m', 'text': '#deleteBoltapp', 'user': {'name': 'Noreen Bwabye', 'username': '@IMNoreen256', 'profile_id': '1847151392504324096', 'avatar': 'https://pbs.twimg.com/profile_images/1847151392504324096/1JuI12_F_bigger.jpg'}, 'date': 'Apr 15, 2022 · 7:47 AM UTC', 'is-retweet': False, 'is-pinned': False, 'external-link': '', 'replying-to': [], 'quoted-post': {}, 'stats': {'comments': 0, 'retweets': 0, 'quotes': 0, 'likes': 0}, 'pictures': [], 'videos': [], 'gifs': []}, {'link': 'https://twitter.com/KenyanTraffic/status/1501234343406374912#m', 'text': '#deleteboltapp very ng and  shitty app favpuring client e.g client :doesnt pay   bolt : we shall compensate after 14 days  clients : forgets sunglasses  bolt : blocks driver accnt immediately @boltapp_za @boltapp  @boltapp_ke @ma3route Via @goodchance_', 'user': {'name': 'KenyanTraffic', 'username': '@KenyanTraffic', 'profile_id': '1505260367693639680', 'avatar': 'https://pbs.twimg.com/profile_images/1505260367693639680/vau7w6-z_bigger.jpg'}, 'date': 'Mar 8, 2022 · 4:32 PM UTC', 'is-retweet': False, 'is-pinned': False, 'external-link': '', 'replying-to': [], 'quoted-post': {}, 'stats': {'comments': 0, 'retweets': 0, 'quotes': 0, 'likes': 0}, 'pictures': [], 'videos': [], 'gifs': []}, {'link': 'https://twitter.com/MotlagoD/status/1501203726215925765#m', 'text': '@boltapp customers are complaining,your drivers are crying and all you care about is donations😠😠#deleteboltapp', 'user': {'name': 'Desiree88', 'username': '@MotlagoD', 'profile_id': '1480259863997521927', 'avatar': 'https://pbs.twimg.com/profile_images/1480259863997521927/Qba9WYFb_bigger.jpg'}, 'date': 'Mar 8, 2022 · 2:30 PM UTC', 'is-retweet': False, 'is-pinned': False, 'external-link': '', 'replying-to': [], 'quoted-post': {}, 'stats': {'comments': 0, 'retweets': 0, 'quotes': 0, 'likes': 0}, 'pictures': [], 'videos': [], 'gifs': []}, {'link': 'https://twitter.com/MathonsNelisiwe/status/1498847774292557824#m', 'text': 'Petition against Bolt South Africa @Boltapp_za for not vetting/verifying its drivers! #Bolt - Sign the Petition! https://chng.it/Z7dydjfC via @ChangeorgSA #Bolt #DeleteBoltApp', 'user': {'name': 'Nelisiwe Mathonsi📿', 'username': '@MathonsNelisiwe', 'profile_id': '1495345963510247426', 'avatar': 'https://pbs.twimg.com/profile_images/1495345963510247426/V3ZLggsH_bigger.jpg'}, 'date': 'Mar 2, 2022 · 2:28 AM UTC', 'is-retweet': False, 'is-pinned': False, 'external-link': '', 'replying-to': [], 'quoted-post': {}, 'stats': {'comments': 0, 'retweets': 0, 'quotes': 0, 'likes': 0}, 'pictures': [], 'videos': [], 'gifs': []}, {'link': 'https://twitter.com/ntodeni_/status/1498742076317569033#m', 'text': '#DeleteBoltApp', 'user': {'name': 'Ntodeni', 'username': '@ntodeni_', 'profile_id': '1816950673130283008', 'avatar': 'https://pbs.twimg.com/profile_images/1816950673130283008/Vkx3jTww_bigger.jpg'}, 'date': 'Mar 1, 2022 · 7:28 PM UTC', 'is-retweet': False, 'is-pinned': False, 'external-link': '', 'replying-to': [], 'quoted-post': {}, 'stats': {'comments': 0, 'retweets': 0, 'quotes': 0, 'likes': 0}, 'pictures': [], 'videos': [], 'gifs': []}, {'link': 'https://twitter.com/LarnaMs/status/1498421528513462275#m', 'text': '@boltapp strikes again! #deleteboltapp', 'user': {'name': 'Ms Larna', 'username': '@LarnaMs', 'profile_id': '1804981474925359104', 'avatar': 'https://pbs.twimg.com/profile_images/1804981474925359104/7gAso3TQ_bigger.jpg'}, 'date': 'Feb 28, 2022 · 10:15 PM UTC', 'is-retweet': False, 'is-pinned': False, 'external-link': '', 'replying-to': [], 'quoted-post': {'link': 'https://twitter.com/VictorGreatree/status/1498308237522780161#m', 'text': 'Around 3am this morning my nephew & his friends a guy and the young girl were robbed and stabbed by @bolt driver and his friend. They then forced my nephew & his friend out of the car and drove off with the girl. She is still missing.', 'user': {'name': 'South African blood (Zulu soul) 🇿🇦 🇷🇺', 'username': '@VictorGreatree', 'profile_id': '1828344874074034177', 'avatar': 'https://pbs.twimg.com/profile_images/1828344874074034177/Kq5W7_dR_mini.jpg'}, 'date': 'Feb 28, 2022 · 2:44 PM UTC', 'pictures': [], 'videos': [], 'gifs': []}, 'stats': {'comments': 0, 'retweets': 0, 'quotes': 0, 'likes': 0}, 'pictures': [], 'videos': [], 'gifs': []}, {'link': 'https://twitter.com/MphoMosekl19/status/1497984537565048833#m', 'text': 'Just deleted my bolt app #deleteBoltApp', 'user': {'name': 'Mamago Botlhale', 'username': '@MphoMosekl19', 'profile_id': '1860030538997727232', 'avatar': 'https://pbs.twimg.com/profile_images/1860030538997727232/xjvqakYj_bigger.jpg'}, 'date': 'Feb 27, 2022 · 5:18 PM UTC', 'is-retweet': False, 'is-pinned': False, 'external-link': '', 'replying-to': [], 'quoted-post': {}, 'stats': {'comments': 0, 'retweets': 0, 'quotes': 0, 'likes': 12}, 'pictures': [], 'videos': [], 'gifs': []}, {'link': 'https://twitter.com/ThabangMbalathi/status/1497591256712503297#m', 'text': 'Bolt has become so dangerous, several reports via all social platforms. Advisable to stop using this service, especially for women and children. No action from the organization. #deleteboltapp', 'user': {'name': '🇿🇦 🇿🇲 🇦🇪 🇮🇹', 'username': '@ThabangMbalathi', 'profile_id': '1895201152947372032', 'avatar': 'https://pbs.twimg.com/profile_images/1895201152947372032/XNnPj5Ii_bigger.jpg'}, 'date': 'Feb 26, 2022 · 3:15 PM UTC', 'is-retweet': False, 'is-pinned': False, 'external-link': '', 'replying-to': [], 'quoted-post': {}, 'stats': {'comments': 0, 'retweets': 0, 'quotes': 0, 'likes': 1}, 'pictures': [], 'videos': [], 'gifs': []}, {'link': 'https://twitter.com/ThabangMbalathi/status/1497589832155021313#m', 'text': 'Bolt has become so dangerous, several reports via all social platforms. Advisable to stop using this service, especially for women and children. No action from the organization. #deleteboltapp', 'user': {'name': '🇿🇦 🇿🇲 🇦🇪 🇮🇹', 'username': '@ThabangMbalathi', 'profile_id': '1895201152947372032', 'avatar': 'https://pbs.twimg.com/profile_images/1895201152947372032/XNnPj5Ii_bigger.jpg'}, 'date': 'Feb 26, 2022 · 3:10 PM UTC', 'is-retweet': False, 'is-pinned': False, 'external-link': '', 'replying-to': ['@Anele'], 'quoted-post': {}, 'stats': {'comments': 0, 'retweets': 0, 'quotes': 0, 'likes': 0}, 'pictures': [], 'videos': [], 'gifs': []}, {'link': 'https://twitter.com/BLEK_APHIWE/status/1497571333995216903#m', 'text': 'There are safer and reliable transportation services  #DeleteBoltApp #BoltAppMustFall', 'user': {'name': 'BLEK@SA', 'username': '@BLEK_APHIWE', 'profile_id': '1717448818591977472', 'avatar': 'https://pbs.twimg.com/profile_images/1717448818591977472/9BBGkaxb_bigger.jpg'}, 'date': 'Feb 26, 2022 · 1:56 PM UTC', 'is-retweet': False, 'is-pinned': False, 'external-link': '', 'replying-to': [], 'quoted-post': {'link': 'https://twitter.com/Anele/status/1497501819257470978#m', 'text': 'Who owns Bolt? Where are their offices?', 'user': {'name': 'Anele Mdoda', 'username': '@Anele', 'profile_id': '1736803891134550016', 'avatar': 'https://pbs.twimg.com/profile_images/1736803891134550016/byCNlyDc_mini.jpg'}, 'date': 'Feb 26, 2022 · 9:20 AM UTC', 'pictures': [], 'videos': [], 'gifs': []}, 'stats': {'comments': 0, 'retweets': 0, 'quotes': 0, 'likes': 0}, 'pictures': [], 'videos': [], 'gifs': []}, {'link': 'https://twitter.com/_ngenia/status/1482725290262544386#m', 'text': 'Bolt is a menace for sure, there was a #deleteboltapp in kenya a while back', 'user': {'name': 'Cyee', 'username': '@_ngenia', 'profile_id': '1809256868050595842', 'avatar': 'https://pbs.twimg.com/profile_images/1809256868050595842/uukObAeV_bigger.jpg'}, 'date': 'Jan 16, 2022 · 2:43 PM UTC', 'is-retweet': False, 'is-pinned': False, 'external-link': '', 'replying-to': ['@Ms_Dezyna'], 'quoted-post': {}, 'stats': {'comments': 0, 'retweets': 0, 'quotes': 0, 'likes': 0}, 'pictures': [], 'videos': [], 'gifs': []}], 'threads': []}, {'tweets': [{'link': 'https://twitter.com/MissOpinionSA/status/1882670711216689360#m', 'text': 'BOYCOTT e-hailing apps guys! No ways! They must go drive in their home countries. #Deletebolt #SouthAfricanDriversOnly the DA and the ANC are destroying this country!', 'user': {'name': 'Oriana Village Patriot 🇿🇦', 'username': '@MissOpinionSA', 'profile_id': '1867134959368208386', 'avatar': 'https://pbs.twimg.com/profile_images/1867134959368208386/jLEtiPOv_bigger.jpg'}, 'date': 'Jan 24, 2025 · 6:04 AM UTC', 'is-retweet': False, 'is-pinned': False, 'external-link': '', 'replying-to': [], 'quoted-post': {'link': 'https://twitter.com/Island_Tribe17/status/1882482150957895843#m', 'text': 'The ANC and DA are sinking this country.   @MYANC @MbalulaFikile @PresidencyZA @Leon_Schreib @HomeAffairsSA @CyrilRamaphosa @ParliamentofRSA @PConHomeAffairs @Our_DA @helenzille @jsteenhuisen', 'user': {'name': '🕸🇿🇦 Spider™🇿🇦 विशाल महाराज ॐ', 'username': '@Island_Tribe17', 'profile_id': '1822006583708073984', 'avatar': 'https://pbs.twimg.com/profile_images/1822006583708073984/MZq0nRYI_mini.jpg'}, 'date': 'Jan 23, 2025 · 5:34 PM UTC', 'pictures': ['https://pbs.twimg.com/media/Gh_ricTXwAAHh3S.jpg'], 'videos': [], 'gifs': []}, 'stats': {'comments': 0, 'retweets': 0, 'quotes': 0, 'likes': 1}, 'pictures': ['https://pbs.twimg.com/media/GiCXCKSWEAAUiwT.jpg', 'https://pbs.twimg.com/media/GiCXCKQXQAAoNnr.jpg'], 'videos': [], 'gifs': []}, {'link': 'https://twitter.com/EnLuchaVTC/status/1861133193266524198#m', 'text': '😏 ¡Ha! igualito que en #Madrid...   #DeleteUber • #DeleteCabify • #DeleteBolt', 'user': {'name': 'Resistencia VTC', 'username': '@EnLuchaVTC', 'profile_id': '1876619019391770624', 'avatar': 'https://pbs.twimg.com/profile_images/1876619019391770624/nqShyaAe_bigger.jpg'}, 'date': 'Nov 25, 2024 · 7:41 PM UTC', 'is-retweet': False, 'is-pinned': False, 'external-link': '', 'replying-to': [], 'quoted-post': {'link': 'https://twitter.com/GUBBarcelona/status/1860715243124515025#m', 'text': \"👀 Divendres la #gubUCT va fer un dispositiu estàtic de control de vehicles de transports de viatgers de fins a 9 places (#VTC). Es van inspeccionar un total de 41 vehicles, dels quals 18 van ser retirats de la via per manca de l'autorització necessària per exercir l'activitat.\", 'user': {'name': 'Guàrdia Urbana Barcelona', 'username': '@GUBBarcelona', 'profile_id': '1806948159903453184', 'avatar': 'https://pbs.twimg.com/profile_images/1806948159903453184/HTxfNUGP_mini.jpg'}, 'date': 'Nov 24, 2024 · 4:00 PM UTC', 'pictures': ['https://pbs.twimg.com/media/GdKWpxgXQAA5j2P.jpg'], 'videos': [], 'gifs': []}, 'stats': {'comments': 0, 'retweets': 0, 'quotes': 0, 'likes': 1}, 'pictures': [], 'videos': [], 'gifs': []}, {'link': 'https://twitter.com/EnLuchaVTC/status/1848357918363549906#m', 'text': 'Los usuarios son responsables de que Esclabify y demás operadores de #VTC⛓️ de plataforma se comporten como una plaga de langostas. Ofrecen sus servicios como \"ecológicos\" y \"sostenibles\", aunque la realidad demuestra lo contrario.   ☛ #DeleteUber #DeleteBolt #DeleteCabify', 'user': {'name': 'Resistencia VTC', 'username': '@EnLuchaVTC', 'profile_id': '1876619019391770624', 'avatar': 'https://pbs.twimg.com/profile_images/1876619019391770624/nqShyaAe_bigger.jpg'}, 'date': 'Oct 21, 2024 · 1:37 PM UTC', 'is-retweet': False, 'is-pinned': False, 'external-link': '', 'replying-to': [], 'quoted-post': {'link': 'https://twitter.com/alyurbeis/status/1848269797764563265#m', 'text': 'Hola @cabify_espana @cabify un poco cerdos en Sevilla a la salida del aeropuerto no ? Y lo de mear también no ? Podría mandar fotos y vídeos de los vehículos en plena operación limpieza vehicular pero creo que sobran las palabras (e imágenes)', 'user': {'name': '[NAG] Alyurbeis', 'username': '@alyurbeis', 'profile_id': '685128019942440961', 'avatar': 'https://pbs.twimg.com/profile_images/685128019942440961/HFJ3jSye_mini.png'}, 'date': 'Oct 21, 2024 · 7:47 AM UTC', 'pictures': ['https://pbs.twimg.com/media/GaZfhuWWIAAwugJ.jpg', 'https://pbs.twimg.com/media/GaZfhuYW8AA71tA.jpg', 'https://pbs.twimg.com/media/GaZfhuWW4AAjDVh.jpg'], 'videos': [], 'gifs': []}, 'stats': {'comments': 0, 'retweets': 7, 'quotes': 0, 'likes': 11}, 'pictures': [], 'videos': [], 'gifs': []}, {'link': 'https://twitter.com/EnLuchaVTC/status/1833266890170405043#m', 'text': 'Los conductores en Kenia que operan con @Uber · @boltapp · @inDrive · @farasKenya se movilizan contra estas plataformas que perpetúan modelos comerciales explotadores, disfrazados de \"oportunidades\" para conductores en línea.  #DeketeUber #DeleteBolt  (Imagen cortesía @MaliiNgie)', 'user': {'name': 'Resistencia VTC', 'username': '@EnLuchaVTC', 'profile_id': '1876619019391770624', 'avatar': 'https://pbs.twimg.com/profile_images/1876619019391770624/nqShyaAe_bigger.jpg'}, 'date': 'Sep 9, 2024 · 10:11 PM UTC', 'is-retweet': False, 'is-pinned': False, 'external-link': '', 'replying-to': [], 'quoted-post': {'link': 'https://twitter.com/PlatformWorkers/status/1832129591864959081#m', 'text': 'Our brothers and colleagues in Kenya are taking a stand against app companies that perpetuate exploitative business models, disguised as \"opportunities\" for online drivers.  @Auaton_HQAbuja @maiwega @TowardsFairWork @TAWU_Kenya @ITFglobalunion @ituc @ILOAfrica', 'user': {'name': 'African Platform workers Representatives', 'username': '@PlatformWorkers', 'profile_id': '1800188137571770368', 'avatar': 'https://pbs.twimg.com/profile_images/1800188137571770368/9CgMpzgD_mini.jpg'}, 'date': 'Sep 6, 2024 · 6:51 PM UTC', 'pictures': ['https://pbs.twimg.com/media/GW0IJQOX0AAIVi-.jpg', 'https://pbs.twimg.com/media/GW0IJSaXMAEv547.jpg'], 'videos': [], 'gifs': []}, 'stats': {'comments': 0, 'retweets': 2, 'quotes': 0, 'likes': 6}, 'pictures': ['https://pbs.twimg.com/media/GXESIsCWsAAm2vV.png'], 'videos': [], 'gifs': []}, {'link': 'https://twitter.com/EnLuchaVTC/status/1832468945670173158#m', 'text': '🤡@villigm multimillonario CEO de la nociva plataforma #Bolt📴 se mofa de todos sus repartidores esclavos (falsos autónomos y cuentas alquiladas) con este \"simpático mensajito\": «Bolt Food acaba de cumplir 5 años ¡Así que esta semana estoy \"haciendo entregas\"! 🚲»  ☛ #DeleteBolt', 'user': {'name': 'Resistencia VTC', 'username': '@EnLuchaVTC', 'profile_id': '1876619019391770624', 'avatar': 'https://pbs.twimg.com/profile_images/1876619019391770624/nqShyaAe_bigger.jpg'}, 'date': 'Sep 7, 2024 · 5:20 PM UTC', 'is-retweet': False, 'is-pinned': False, 'external-link': '', 'replying-to': [], 'quoted-post': {'link': 'https://twitter.com/villigm/status/1832072121603719607#m', 'text': \"Bolt Food just turned 5, so I’m doing deliveries this week!\\xa0🚲  Baffled more leaders don't regularly use their own products. It's the only way to build a truly great experience.   On that note, what exactly is Founder mode?\", 'user': {'name': 'Markus Villig', 'username': '@villigm', 'profile_id': '1734661651360616448', 'avatar': 'https://pbs.twimg.com/profile_images/1734661651360616448/jSRTJ6-H_mini.jpg'}, 'date': 'Sep 6, 2024 · 3:03 PM UTC', 'pictures': ['https://pbs.twimg.com/media/GWzR_hvX0AEKCxy.jpg'], 'videos': [], 'gifs': []}, 'stats': {'comments': 0, 'retweets': 5, 'quotes': 0, 'likes': 9}, 'pictures': ['https://pbs.twimg.com/media/GW48DxmW4AAxxjh.jpg'], 'videos': [], 'gifs': []}, {'link': 'https://twitter.com/JojoYad/status/1787808560182616350#m', 'text': 'Yhh. Uninstalling and deleting. These ride apps will rather watch people die than operate a decent business #deletebolt', 'user': {'name': 'JojoYad', 'username': '@JojoYad', 'profile_id': '1831838322961891328', 'avatar': 'https://pbs.twimg.com/profile_images/1831838322961891328/TAQ9VM6m_bigger.jpg'}, 'date': 'May 7, 2024 · 11:35 AM UTC', 'is-retweet': False, 'is-pinned': False, 'external-link': '', 'replying-to': [], 'quoted-post': {'link': 'https://twitter.com/Boity_tshivhase/status/1787555619731378397#m', 'text': 'CANCEL BOLT INDEFINITELY !!!!  CANCEL BOLT INDEFINITELY !!!!  CANCEL BOLT INDEFINITELY !!!!  CANCEL BOLT INDEFINITELY !!!!  CANCEL BOLT INDEFINITELY !!!!  CANCEL BOLT INDEFINITELY !!!!  CANCEL BOLT INDEFINITELY !!!!  CANCEL BOLT INDEFINITELY !!!!', 'user': {'name': 'SHIMATSATSA 🧚🏾\\u200d♀️ 🎀', 'username': '@Boity_tshivhase', 'profile_id': '1897635182649241601', 'avatar': 'https://pbs.twimg.com/profile_images/1897635182649241601/tWz01kLh_mini.jpg'}, 'date': 'May 6, 2024 · 6:50 PM UTC', 'pictures': [], 'videos': [], 'gifs': []}, 'stats': {'comments': 0, 'retweets': 1, 'quotes': 0, 'likes': 0}, 'pictures': [], 'videos': [], 'gifs': ['https://video.twimg.com/tweet_video/GM-SZ0QWQAAyodn.mp4']}, {'link': 'https://twitter.com/Its_Me_Row/status/1787758389503615488#m', 'text': '#deletebolt', 'user': {'name': 'Its_Row', 'username': '@Its_Me_Row', 'profile_id': '1798421612963782656', 'avatar': 'https://pbs.twimg.com/profile_images/1798421612963782656/EPbJ6tRh_bigger.jpg'}, 'date': 'May 7, 2024 · 8:16 AM UTC', 'is-retweet': False, 'is-pinned': False, 'external-link': '', 'replying-to': [], 'quoted-post': {'link': 'https://twitter.com/womenforchange5/status/1787587761475555471#m', 'text': 'On 4 May 2024, a group of friends was allegedly attacked by a Bolt driver in Table View after he refused to drop them off at their requested location. The driver allegedly started hitting the person sitting in the passenger seat, and when a fight erupted and the car stopped, the group of friends ran away. The driver ran after them and allegedly stabbed two of the women. No one has been arrested yet. #cancelbolt', 'user': {'name': 'Women For Change', 'username': '@womenforchange5', 'profile_id': '1592465369222062080', 'avatar': 'https://pbs.twimg.com/profile_images/1592465369222062080/V_4HkLom_mini.jpg'}, 'date': 'May 6, 2024 · 8:58 PM UTC', 'pictures': ['https://pbs.twimg.com/media/GM7JksBX0AA0Q7f.jpg'], 'videos': [], 'gifs': []}, 'stats': {'comments': 0, 'retweets': 0, 'quotes': 0, 'likes': 0}, 'pictures': [], 'videos': [], 'gifs': []}, {'link': 'https://twitter.com/AfroDiva/status/1787732582647660847#m', 'text': 'I thought we long canceled bolt during the #deletebolt campaign.', 'user': {'name': 'Onica N. Makwakwa', 'username': '@AfroDiva', 'profile_id': '1377556876389445632', 'avatar': 'https://pbs.twimg.com/profile_images/1377556876389445632/8_DOOCRb_bigger.jpg'}, 'date': 'May 7, 2024 · 6:33 AM UTC', 'is-retweet': False, 'is-pinned': False, 'external-link': '', 'replying-to': [], 'quoted-post': {'link': 'https://twitter.com/womenforchange5/status/1787587623172686261#m', 'text': 'Bolt must take action. #cancelbolt', 'user': {'name': 'Women For Change', 'username': '@womenforchange5', 'profile_id': '1592465369222062080', 'avatar': 'https://pbs.twimg.com/profile_images/1592465369222062080/V_4HkLom_mini.jpg'}, 'date': 'May 6, 2024 · 8:57 PM UTC', 'pictures': ['https://pbs.twimg.com/media/GM7JdJBXAAA2YI3.jpg'], 'videos': [], 'gifs': []}, 'stats': {'comments': 1, 'retweets': 0, 'quotes': 0, 'likes': 2}, 'pictures': [], 'videos': [], 'gifs': []}, {'link': 'https://twitter.com/HeineKenyan007/status/1755857396683927776#m', 'text': '#deleteBolt @Boltapp_ke  9/10 of verbal abusers turn physical. I just wish he would have had the courage to say it to my face.', 'user': {'name': 'HeineKenyan 🇰🇪', 'username': '@HeineKenyan007', 'profile_id': '1783543969508368384', 'avatar': 'https://pbs.twimg.com/profile_images/1783543969508368384/iOoOgib1_bigger.jpg'}, 'date': 'Feb 9, 2024 · 7:33 AM UTC', 'is-retweet': False, 'is-pinned': False, 'external-link': '', 'replying-to': [], 'quoted-post': {}, 'stats': {'comments': 0, 'retweets': 0, 'quotes': 0, 'likes': 0}, 'pictures': [], 'videos': [], 'gifs': []}, {'link': 'https://twitter.com/msnguhi/status/1717414844821897327#m', 'text': 'Protecting yourself with regard to Bolt means deleting that app!!!!!  Na this thread is such big nonsense considering the many times people have complained about unsafety on that app. This thread is not it at all!!!!!   Not everyday collecting harmful bags   #deletebolt', 'user': {'name': 'Wanjiru Nguhí 🌻✊🏾', 'username': '@msnguhi', 'profile_id': '1886278064369238016', 'avatar': 'https://pbs.twimg.com/profile_images/1886278064369238016/s8Hn7AJa_bigger.jpg'}, 'date': 'Oct 26, 2023 · 5:36 AM UTC', 'is-retweet': False, 'is-pinned': False, 'external-link': '', 'replying-to': [], 'quoted-post': {'link': 'https://twitter.com/moneyacademyKE/status/1716819396780515406#m', 'text': 'Bolt Kenya has confirmed that it quickly suspended the driver recently caught on camera for misconduct and reported the incident to local authorities.  Below are things you can do protect yourself from such incidents:', 'user': {'name': 'Moe', 'username': '@moneyacademyKE', 'profile_id': '1465548347566080000', 'avatar': 'https://pbs.twimg.com/profile_images/1465548347566080000/YqClAHaB_mini.jpg'}, 'date': 'Oct 24, 2023 · 2:10 PM UTC', 'pictures': [], 'videos': [], 'gifs': []}, 'stats': {'comments': 0, 'retweets': 0, 'quotes': 0, 'likes': 0}, 'pictures': [], 'videos': [], 'gifs': []}, {'link': 'https://twitter.com/irene_asuwa/status/1717154769796514086#m', 'text': 'Just #deletebolt.While the drivers are the same bolt seems not to have mechanisms for customers get complaints addressed and drivers take advantage of that.For your own safety do away with that app because perpetrators know there are no mechanisms to bring them to book.', 'user': {'name': 'Irene Asuwa', 'username': '@irene_asuwa', 'profile_id': '1861296321874849792', 'avatar': 'https://pbs.twimg.com/profile_images/1861296321874849792/g0lWGi_7_bigger.jpg'}, 'date': 'Oct 25, 2023 · 12:22 PM UTC', 'is-retweet': False, 'is-pinned': False, 'external-link': '', 'replying-to': [], 'quoted-post': {'link': 'https://twitter.com/moneyacademyKE/status/1716819396780515406#m', 'text': 'Bolt Kenya has confirmed that it quickly suspended the driver recently caught on camera for misconduct and reported the incident to local authorities.  Below are things you can do protect yourself from such incidents:', 'user': {'name': 'Moe', 'username': '@moneyacademyKE', 'profile_id': '1465548347566080000', 'avatar': 'https://pbs.twimg.com/profile_images/1465548347566080000/YqClAHaB_mini.jpg'}, 'date': 'Oct 24, 2023 · 2:10 PM UTC', 'pictures': [], 'videos': [], 'gifs': []}, 'stats': {'comments': 0, 'retweets': 2, 'quotes': 0, 'likes': 0}, 'pictures': [], 'videos': [], 'gifs': []}, {'link': 'https://twitter.com/dexxe/status/1717071735076364494#m', 'text': \"how could any of these stopped the latest incidence please. it's giving paid partnership. smh.  There's only 1 step and 1 step only #DeleteBolt\", 'user': {'name': 'safaricon hater #2', 'username': '@dexxe', 'profile_id': '1590598855128752129', 'avatar': 'https://pbs.twimg.com/profile_images/1590598855128752129/FZUYgfir_bigger.png'}, 'date': 'Oct 25, 2023 · 6:52 AM UTC', 'is-retweet': False, 'is-pinned': False, 'external-link': '', 'replying-to': [], 'quoted-post': {'link': 'https://twitter.com/moneyacademyKE/status/1716819396780515406#m', 'text': 'Bolt Kenya has confirmed that it quickly suspended the driver recently caught on camera for misconduct and reported the incident to local authorities.  Below are things you can do protect yourself from such incidents:', 'user': {'name': 'Moe', 'username': '@moneyacademyKE', 'profile_id': '1465548347566080000', 'avatar': 'https://pbs.twimg.com/profile_images/1465548347566080000/YqClAHaB_mini.jpg'}, 'date': 'Oct 24, 2023 · 2:10 PM UTC', 'pictures': [], 'videos': [], 'gifs': []}, 'stats': {'comments': 0, 'retweets': 1, 'quotes': 0, 'likes': 3}, 'pictures': [], 'videos': [], 'gifs': []}, {'link': 'https://twitter.com/SandeZack/status/1705068850868339175#m', 'text': 'Bolt is one of these:  1) a criminal gang 2) an operation that harbours a criminal gang @DCI_Kenya ndo hiyo tumefichua kama Leo ndio mnaskia mambo ya Bolt #deleteBolt', 'user': {'name': 'Zack Sande', 'username': '@SandeZack', 'profile_id': '1737764881586139136', 'avatar': 'https://pbs.twimg.com/profile_images/1737764881586139136/1Nk-i27x_bigger.jpg'}, 'date': 'Sep 22, 2023 · 3:57 AM UTC', 'is-retweet': False, 'is-pinned': False, 'external-link': '', 'replying-to': ['@Nasiri_Kanini', '@suemc_phee'], 'quoted-post': {}, 'stats': {'comments': 0, 'retweets': 1, 'quotes': 0, 'likes': 2}, 'pictures': [], 'videos': [], 'gifs': []}, {'link': 'https://twitter.com/Taximann_Berlin/status/1693925697369088207#m', 'text': 'Elektrisch hin, elektrisch her, das einzig Wahre ist echter #Taxi|verkehr! #DeleteBolt #DeleteUber #DeleteFreeNow', 'user': {'name': 'Taximann Berlin', 'username': '@Taximann_Berlin', 'profile_id': '1120403354084151297', 'avatar': 'https://pbs.twimg.com/profile_images/1120403354084151297/8v8Y9fPk_bigger.jpg'}, 'date': 'Aug 22, 2023 · 9:58 AM UTC', 'is-retweet': False, 'is-pinned': False, 'external-link': '', 'replying-to': ['@IFA_Berlin', '@boltapp'], 'quoted-post': {}, 'stats': {'comments': 0, 'retweets': 0, 'quotes': 0, 'likes': 1}, 'pictures': [], 'videos': [], 'gifs': []}, {'link': 'https://twitter.com/SandeZack/status/1677273163959263235#m', 'text': '#deleteBOLT', 'user': {'name': 'Zack Sande', 'username': '@SandeZack', 'profile_id': '1737764881586139136', 'avatar': 'https://pbs.twimg.com/profile_images/1737764881586139136/1Nk-i27x_bigger.jpg'}, 'date': 'Jul 7, 2023 · 11:07 AM UTC', 'is-retweet': False, 'is-pinned': False, 'external-link': '', 'replying-to': [], 'quoted-post': {}, 'stats': {'comments': 0, 'retweets': 0, 'quotes': 0, 'likes': 0}, 'pictures': [], 'videos': [], 'gifs': []}, {'link': 'https://twitter.com/EnLuchaVTC/status/1670100128802254859#m', 'text': '🚮📲 «Bye Bye Bolt» ★ #BoltOff #DeleteBolt ★ https://nitter.privacyredirect.com/EnLuchaVTC/status/1542883319481786369 #citiesforpeople #BoltStrike #BoycottBolt #Bolt📴 #BoltSlavery #BoltThief', 'user': {'name': 'Resistencia VTC', 'username': '@EnLuchaVTC', 'profile_id': '1876619019391770624', 'avatar': 'https://pbs.twimg.com/profile_images/1876619019391770624/nqShyaAe_bigger.jpg'}, 'date': 'Jun 17, 2023 · 4:04 PM UTC', 'is-retweet': False, 'is-pinned': False, 'external-link': '', 'replying-to': [], 'quoted-post': {'link': 'https://twitter.com/EnLuchaVTC/status/1542883319481786369#m', 'text': '🚮📲 «Bye Bye Bolt»   Instrucciones para saber todo sobre la gestión de tus datos en Bolt y guiarte paso a paso y de una manera muy sencilla para comprender cómo eliminar una cuenta de #Bolt de forma permanente.  ★ #BoltOff #DeleteBolt ★ https://support.taxify.eu/hc/es/articles/360000336273-Eliminar-mi-cuenta', 'user': {'name': 'Resistencia VTC', 'username': '@EnLuchaVTC', 'profile_id': '1876619019391770624', 'avatar': 'https://pbs.twimg.com/profile_images/1876619019391770624/nqShyaAe_mini.jpg'}, 'date': 'Jul 1, 2022 · 2:50 PM UTC', 'pictures': ['https://pbs.twimg.com/media/FWlsMNfX0AAceQ-.jpg'], 'videos': [], 'gifs': []}, 'stats': {'comments': 0, 'retweets': 1, 'quotes': 0, 'likes': 1}, 'pictures': [], 'videos': [], 'gifs': []}, {'link': 'https://twitter.com/irene_asuwa/status/1668548203472379905#m', 'text': \"Bolt never responds to complaints.Just #deletebolt.They don't care and suppress people who stand up against them.Stop funding people who use the profit they plunder from you to exploit and oppress you.Defund your oppression.\", 'user': {'name': 'Irene Asuwa', 'username': '@irene_asuwa', 'profile_id': '1861296321874849792', 'avatar': 'https://pbs.twimg.com/profile_images/1861296321874849792/g0lWGi_7_bigger.jpg'}, 'date': 'Jun 13, 2023 · 9:17 AM UTC', 'is-retweet': False, 'is-pinned': False, 'external-link': '', 'replying-to': [], 'quoted-post': {'link': '', 'text': '', 'user': {}, 'date': '', 'pictures': [], 'videos': [], 'gifs': []}, 'stats': {'comments': 0, 'retweets': 2, 'quotes': 0, 'likes': 2}, 'pictures': [], 'videos': [], 'gifs': []}, {'link': 'https://twitter.com/irene_asuwa/status/1668546874310119424#m', 'text': '@Femconvoke remember when we warned people about @boltapp and they came for the account with everything.Their statement is pure victim shaming and blaming. #DeleteBolt', 'user': {'name': 'Irene Asuwa', 'username': '@irene_asuwa', 'profile_id': '1861296321874849792', 'avatar': 'https://pbs.twimg.com/profile_images/1861296321874849792/g0lWGi_7_bigger.jpg'}, 'date': 'Jun 13, 2023 · 9:12 AM UTC', 'is-retweet': False, 'is-pinned': False, 'external-link': '', 'replying-to': [], 'quoted-post': {'link': 'https://twitter.com/ntvkenya/status/1668543055513763841#m', 'text': \"Bolt: Failure to check license plates led to abduction of Ciku Muiruri's daughter  https://ow.ly/g0zJ50OMEjm\", 'user': {'name': 'NTV Kenya', 'username': '@ntvkenya', 'profile_id': '1656506685366706176', 'avatar': 'https://pbs.twimg.com/profile_images/1656506685366706176/pXg5V8Vt_mini.jpg'}, 'date': 'Jun 13, 2023 · 8:57 AM UTC', 'pictures': ['https://pbs.twimg.com/media/FyfbESAWcAMAkUL.jpg'], 'videos': [], 'gifs': []}, 'stats': {'comments': 0, 'retweets': 2, 'quotes': 1, 'likes': 2}, 'pictures': [], 'videos': [], 'gifs': []}, {'link': 'https://twitter.com/Ethan_Chege_/status/1668498960212713474#m', 'text': 'What about your drivers? You made them your slaves.  Working with no good pay. No customer support, no response, no office ,no nothing.  #deletebolt', 'user': {'name': 'Ethan Chege', 'username': '@Ethan_Chege_', 'profile_id': '1725211831965204482', 'avatar': 'https://pbs.twimg.com/profile_images/1725211831965204482/tRDsBX6y_bigger.jpg'}, 'date': 'Jun 13, 2023 · 6:02 AM UTC', 'is-retweet': False, 'is-pinned': False, 'external-link': '', 'replying-to': [], 'quoted-post': {}, 'stats': {'comments': 0, 'retweets': 0, 'quotes': 0, 'likes': 1}, 'pictures': [], 'videos': [], 'gifs': []}, {'link': 'https://twitter.com/Ethan_Chege_/status/1668496506670788608#m', 'text': '#DeleteBolt', 'user': {'name': 'Ethan Chege', 'username': '@Ethan_Chege_', 'profile_id': '1725211831965204482', 'avatar': 'https://pbs.twimg.com/profile_images/1725211831965204482/tRDsBX6y_bigger.jpg'}, 'date': 'Jun 13, 2023 · 5:52 AM UTC', 'is-retweet': False, 'is-pinned': False, 'external-link': '', 'replying-to': [], 'quoted-post': {}, 'stats': {'comments': 0, 'retweets': 0, 'quotes': 0, 'likes': 0}, 'pictures': ['https://pbs.twimg.com/media/Fyewuw0X0AMfipw.jpg'], 'videos': [], 'gifs': []}, {'link': 'https://twitter.com/FarhanMahmoud_/status/1668485376351019013#m', 'text': 'I had a horrific experience last December with a bolt driver. I raised the issue with customer support and no action was taken. I deleted the app soon after.   I think uber is a reliable operator.   #DeleteBolt', 'user': {'name': 'theRevanchist', 'username': '@FarhanMahmoud_', 'profile_id': '1874735089495478272', 'avatar': 'https://pbs.twimg.com/profile_images/1874735089495478272/Iapf7_W5_bigger.jpg'}, 'date': 'Jun 13, 2023 · 5:08 AM UTC', 'is-retweet': False, 'is-pinned': False, 'external-link': '', 'replying-to': [], 'quoted-post': {}, 'stats': {'comments': 0, 'retweets': 0, 'quotes': 0, 'likes': 0}, 'pictures': ['https://pbs.twimg.com/media/Fyemm0pXoAA74jV.jpg'], 'videos': [], 'gifs': []}, {'link': 'https://twitter.com/juliusmwaniki/status/1668311520193675272#m', 'text': '@Boltapp_ke  if you care about your safety , delete Bolt on your phone.      #deletebolt', 'user': {'name': 'julius mwaniki foundation', 'username': '@juliusmwaniki', 'profile_id': '1150693338795913216', 'avatar': 'https://pbs.twimg.com/profile_images/1150693338795913216/NU_8Rq1b_bigger.jpg'}, 'date': 'Jun 12, 2023 · 5:37 PM UTC', 'is-retweet': False, 'is-pinned': False, 'external-link': '', 'replying-to': ['@DCI_Kenya'], 'quoted-post': {}, 'stats': {'comments': 0, 'retweets': 0, 'quotes': 0, 'likes': 2}, 'pictures': [], 'videos': [], 'gifs': []}, {'link': 'https://twitter.com/Mandisa4Real/status/1667427225879080962#m', 'text': 'Why are people still using @Boltapp_za ? #deletebolt', 'user': {'name': '🇿🇦 Miss Mandisa', 'username': '@Mandisa4Real', 'profile_id': '1525194653192036357', 'avatar': 'https://pbs.twimg.com/profile_images/1525194653192036357/CXN7Hi3B_bigger.jpg'}, 'date': 'Jun 10, 2023 · 7:03 AM UTC', 'is-retweet': False, 'is-pinned': False, 'external-link': '', 'replying-to': ['@News24', '@iavanpijoos'], 'quoted-post': {}, 'stats': {'comments': 0, 'retweets': 0, 'quotes': 0, 'likes': 1}, 'pictures': [], 'videos': [], 'gifs': []}, {'link': 'https://twitter.com/EnLuchaVTC/status/1666407896266027010#m', 'text': 'Conductores de #Uber📴 y #Bolt📴 inician una #huelga nacional en #Nigeria🇳🇬 💪🏻🚗🚗🚗  #UberStrike #BoycottUber #DeleteUber #UberSlavery #UberThief #BoltStrike #BoycottBolt #DeleteBolt #BoltSlavery #BoltThief https://punchng.com/uber-bolt-drivers-begin-nationwide-strike/', 'user': {'name': 'Resistencia VTC', 'username': '@EnLuchaVTC', 'profile_id': '1876619019391770624', 'avatar': 'https://pbs.twimg.com/profile_images/1876619019391770624/nqShyaAe_bigger.jpg'}, 'date': 'Jun 7, 2023 · 11:32 AM UTC', 'is-retweet': False, 'is-pinned': False, 'external-link': '', 'replying-to': [], 'quoted-post': {}, 'stats': {'comments': 0, 'retweets': 1, 'quotes': 0, 'likes': 1}, 'pictures': [], 'videos': [], 'gifs': []}, {'link': 'https://twitter.com/EnLuchaVTC/status/1660618230409428996#m', 'text': '🎵 Triste y sola, sola se queda Menooorca, triste y llorosa queda Esclabify 🎶   ☛  #CabifyStrike #BoycottCabify #Cabify📴 #DeleteCabify #CabifySlavery #CabifyThief #UberStrike #BoycottUber #Uber📴 #DeleteUber #UberSlavery #UberThief #BoltStrike #BoycottBolt #Bolt📴 #DeleteBolt', 'user': {'name': 'Resistencia VTC', 'username': '@EnLuchaVTC', 'profile_id': '1876619019391770624', 'avatar': 'https://pbs.twimg.com/profile_images/1876619019391770624/nqShyaAe_bigger.jpg'}, 'date': 'May 22, 2023 · 12:06 PM UTC', 'is-retweet': False, 'is-pinned': False, 'external-link': '', 'replying-to': [], 'quoted-post': {}, 'stats': {'comments': 0, 'retweets': 0, 'quotes': 0, 'likes': 1}, 'pictures': ['https://pbs.twimg.com/media/FwuyaVpWYAA4e2s.jpg'], 'videos': [], 'gifs': []}, {'link': 'https://twitter.com/EnLuchaVTC/status/1657734524556439552#m', 'text': '#Bolt📴 maltrata a los trabajadores, los explota y los desecha como si fueran basura (o como se lee en los #Uberfiles: \"suministros\")   #BoltStrike #BoycottBolt #citiesforpeople #DeleteBolt #BoltSlavery #BoltThief', 'user': {'name': 'Resistencia VTC', 'username': '@EnLuchaVTC', 'profile_id': '1876619019391770624', 'avatar': 'https://pbs.twimg.com/profile_images/1876619019391770624/nqShyaAe_bigger.jpg'}, 'date': 'May 14, 2023 · 1:08 PM UTC', 'is-retweet': False, 'is-pinned': False, 'external-link': '', 'replying-to': [], 'quoted-post': {'link': 'https://twitter.com/UPHD_IWGB/status/1653461348418715648#m', 'text': 'Why don’t you just pay drivers enough to survive on so they aren’t forced to decline jobs rather than take punitive measures to force them to accept?   Bullying drivers to accept poverty pay is not a good look Bolt!', 'user': {'name': 'IWGB United Private Hire Drivers', 'username': '@UPHD_IWGB', 'profile_id': '1624433322251231237', 'avatar': 'https://pbs.twimg.com/profile_images/1624433322251231237/NEVLkoqG_mini.jpg'}, 'date': 'May 2, 2023 · 6:07 PM UTC', 'pictures': [], 'videos': [], 'gifs': []}, 'stats': {'comments': 0, 'retweets': 2, 'quotes': 0, 'likes': 2}, 'pictures': ['https://pbs.twimg.com/media/FwFlOEwXgAMN1pQ.jpg'], 'videos': [], 'gifs': []}, {'link': 'https://twitter.com/ConductoresVTC/status/1655620672192753674#m', 'text': '🚮📲 «Bye Bye Bolt» ★ #BoltOff #DeleteBolt ★', 'user': {'name': 'Conductores VTC', 'username': '@ConductoresVTC', 'profile_id': '1255784967931559936', 'avatar': 'https://pbs.twimg.com/profile_images/1255784967931559936/T_UoTRCF_bigger.jpg'}, 'date': 'May 8, 2023 · 5:08 PM UTC', 'is-retweet': False, 'is-pinned': False, 'external-link': '', 'replying-to': [], 'quoted-post': {'link': 'https://twitter.com/EnLuchaVTC/status/1542883319481786369#m', 'text': '🚮📲 «Bye Bye Bolt»   Instrucciones para saber todo sobre la gestión de tus datos en Bolt y guiarte paso a paso y de una manera muy sencilla para comprender cómo eliminar una cuenta de #Bolt de forma permanente.  ★ #BoltOff #DeleteBolt ★ https://support.taxify.eu/hc/es/articles/360000336273-Eliminar-mi-cuenta', 'user': {'name': 'Resistencia VTC', 'username': '@EnLuchaVTC', 'profile_id': '1876619019391770624', 'avatar': 'https://pbs.twimg.com/profile_images/1876619019391770624/nqShyaAe_mini.jpg'}, 'date': 'Jul 1, 2022 · 2:50 PM UTC', 'pictures': ['https://pbs.twimg.com/media/FWlsMNfX0AAceQ-.jpg'], 'videos': [], 'gifs': []}, 'stats': {'comments': 0, 'retweets': 0, 'quotes': 0, 'likes': 1}, 'pictures': [], 'videos': [], 'gifs': []}, {'link': 'https://twitter.com/EnLuchaVTC/status/1644805810839486467#m', 'text': 'En Ghana🇬🇭, segundo día de huelga 💪🏻🚴🏻🚗   ☛ O #Bolt📴 desbloquea (#unblock) a los representantes de los trabajadores o conductores y repartidores bloquean (block) la nociva aplicación 👊🏻   #BoltStrike #BoycottBolt #BoltOff #DeleteBolt #BoltSlavery #strike #huelga #fairwork', 'user': {'name': 'Resistencia VTC', 'username': '@EnLuchaVTC', 'profile_id': '1876619019391770624', 'avatar': 'https://pbs.twimg.com/profile_images/1876619019391770624/nqShyaAe_bigger.jpg'}, 'date': 'Apr 8, 2023 · 8:53 PM UTC', 'is-retweet': False, 'is-pinned': False, 'external-link': '', 'replying-to': [], 'quoted-post': {'link': 'https://twitter.com/maiwega/status/1644614377205538816#m', 'text': 'Day two of  Ghana  delivery strike is today and the zone representatives are all blocked and taking off the bolt courier platform the most amazing thing here is all the delivery riders from  various zones came up with an idea that they should add', 'user': {'name': 'Ayoade Ibrahim®️', 'username': '@maiwega', 'profile_id': '1677225846703026176', 'avatar': 'https://pbs.twimg.com/profile_images/1677225846703026176/oMtH2gav_mini.jpg'}, 'date': 'Apr 8, 2023 · 8:13 AM UTC', 'pictures': ['https://pbs.twimg.com/media/FtLYDb1WcAUZB2H.jpg'], 'videos': [], 'gifs': []}, 'stats': {'comments': 1, 'retweets': 5, 'quotes': 0, 'likes': 5}, 'pictures': [], 'videos': [], 'gifs': []}, {'link': 'https://twitter.com/EnLuchaVTC/status/1618610947823931394#m', 'text': '⚠️  Por muy desesperado que estés, piensa en cualquier alternativa antes que optar por un #trabajo de conductor de #VTC.   #BoycottUber #DeleteUber #Uberslavery #BoycottBolt #DeleteBolt #Boltslavery #BoycottCabify #DeleteCabify #Cabifyslavery #citiesforpeople #UrbanMobility 👊🏻', 'user': {'name': 'Resistencia VTC', 'username': '@EnLuchaVTC', 'profile_id': '1876619019391770624', 'avatar': 'https://pbs.twimg.com/profile_images/1876619019391770624/nqShyaAe_bigger.jpg'}, 'date': 'Jan 26, 2023 · 2:04 PM UTC', 'is-retweet': False, 'is-pinned': False, 'external-link': '', 'replying-to': [], 'quoted-post': {}, 'stats': {'comments': 1, 'retweets': 4, 'quotes': 0, 'likes': 5}, 'pictures': ['https://pbs.twimg.com/media/FnZ1yC1WYAIq4Dv.jpg'], 'videos': [], 'gifs': []}, {'link': 'https://twitter.com/EnLuchaVTC/status/1615080163519201301#m', 'text': '👊🏻 Este martes el #taxi de #Barcelona se vuelve a movilizar, en esta ocasión no solo contra las gestoras de negreros y nocivas plataformas de #VTC, sino contra un \"caballo de Troya\" que se llama @FreeNow_ES.  #DeleteFreeNow #DeleteUber #DeleteBolt #DeleteCabify SE ROMPE LA BARAJA', 'user': {'name': 'Resistencia VTC', 'username': '@EnLuchaVTC', 'profile_id': '1876619019391770624', 'avatar': 'https://pbs.twimg.com/profile_images/1876619019391770624/nqShyaAe_bigger.jpg'}, 'date': 'Jan 16, 2023 · 8:14 PM UTC', 'is-retweet': False, 'is-pinned': False, 'external-link': '', 'replying-to': [], 'quoted-post': {'link': 'https://twitter.com/TaxiProjectEU/status/1615059777574342693#m', 'text': 'Mañana salimos a defender el derecho de los usuari@s de disponer un servicio público del taxi de profesional, de calidad y con garantías.  17 de enero 10:30 Torres Venecianas (Preparados una hora antes)  No nos vamos a someter a la dictadura de las multinacionales @TitoEliteTx', 'user': {'name': 'Taxi Project 🚖', 'username': '@TaxiProjectEU', 'profile_id': '1519039454748499970', 'avatar': 'https://pbs.twimg.com/profile_images/1519039454748499970/QkiiP72l_mini.jpg'}, 'date': 'Jan 16, 2023 · 6:53 PM UTC', 'pictures': [], 'videos': ['https://video.twimg.com/ext_tw_video/1615059708238303234/pu/vid/576x1024/PFrcDdYaoBWQERVP.mp4?tag=12'], 'gifs': []}, 'stats': {'comments': 0, 'retweets': 2, 'quotes': 0, 'likes': 4}, 'pictures': [], 'videos': [], 'gifs': []}, {'link': 'https://twitter.com/EnLuchaVTC/status/1611331474388664326#m', 'text': '#deleteCabify #deleteUber #deleteBolt 📵', 'user': {'name': 'Resistencia VTC', 'username': '@EnLuchaVTC', 'profile_id': '1876619019391770624', 'avatar': 'https://pbs.twimg.com/profile_images/1876619019391770624/nqShyaAe_bigger.jpg'}, 'date': 'Jan 6, 2023 · 11:58 AM UTC', 'is-retweet': False, 'is-pinned': False, 'external-link': '', 'replying-to': ['@Pepalol4', '@isleofmannn'], 'quoted-post': {}, 'stats': {'comments': 0, 'retweets': 1, 'quotes': 0, 'likes': 1}, 'pictures': [], 'videos': [], 'gifs': []}, {'link': 'https://twitter.com/EnLuchaVTC/status/1610961922068725760#m', 'text': '🚮📲 «Bye Bye Bolt» ★ #BoltOff #DeleteBolt ★', 'user': {'name': 'Resistencia VTC', 'username': '@EnLuchaVTC', 'profile_id': '1876619019391770624', 'avatar': 'https://pbs.twimg.com/profile_images/1876619019391770624/nqShyaAe_bigger.jpg'}, 'date': 'Jan 5, 2023 · 11:30 AM UTC', 'is-retweet': False, 'is-pinned': False, 'external-link': '', 'replying-to': [], 'quoted-post': {'link': 'https://twitter.com/EnLuchaVTC/status/1542883319481786369#m', 'text': '🚮📲 «Bye Bye Bolt»   Instrucciones para saber todo sobre la gestión de tus datos en Bolt y guiarte paso a paso y de una manera muy sencilla para comprender cómo eliminar una cuenta de #Bolt de forma permanente.  ★ #BoltOff #DeleteBolt ★ https://support.taxify.eu/hc/es/articles/360000336273-Eliminar-mi-cuenta', 'user': {'name': 'Resistencia VTC', 'username': '@EnLuchaVTC', 'profile_id': '1876619019391770624', 'avatar': 'https://pbs.twimg.com/profile_images/1876619019391770624/nqShyaAe_mini.jpg'}, 'date': 'Jul 1, 2022 · 2:50 PM UTC', 'pictures': ['https://pbs.twimg.com/media/FWlsMNfX0AAceQ-.jpg'], 'videos': [], 'gifs': []}, 'stats': {'comments': 1, 'retweets': 3, 'quotes': 0, 'likes': 5}, 'pictures': [], 'videos': [], 'gifs': []}, {'link': 'https://twitter.com/EnLuchaVTC/status/1602670782169096193#m', 'text': 'Quien debería opinar es el propio consumidor y desvincularse de estas nocivas formas de \"transporte de animales vivos\", que realizan competencia desleal al #taxi y precarizan a los trabajadores de gestoras de #VTC que se los han cedido subrogados irregularmente. ☛  #DeleteBolt', 'user': {'name': 'Resistencia VTC', 'username': '@EnLuchaVTC', 'profile_id': '1876619019391770624', 'avatar': 'https://pbs.twimg.com/profile_images/1876619019391770624/nqShyaAe_bigger.jpg'}, 'date': 'Dec 13, 2022 · 2:24 PM UTC', 'is-retweet': False, 'is-pinned': False, 'external-link': '', 'replying-to': ['@victordp91', '@boltapp', '@vtc_crash'], 'quoted-post': {}, 'stats': {'comments': 0, 'retweets': 0, 'quotes': 0, 'likes': 4}, 'pictures': [], 'videos': [], 'gifs': []}, {'link': 'https://twitter.com/EnLuchaVTC/status/1601935302272090113#m', 'text': '🚮📲 «Bye Bye Bolt» ★ #BoltOff #DeleteBolt ★', 'user': {'name': 'Resistencia VTC', 'username': '@EnLuchaVTC', 'profile_id': '1876619019391770624', 'avatar': 'https://pbs.twimg.com/profile_images/1876619019391770624/nqShyaAe_bigger.jpg'}, 'date': 'Dec 11, 2022 · 1:41 PM UTC', 'is-retweet': False, 'is-pinned': False, 'external-link': '', 'replying-to': [], 'quoted-post': {'link': 'https://twitter.com/EnLuchaVTC/status/1542883319481786369#m', 'text': '🚮📲 «Bye Bye Bolt»   Instrucciones para saber todo sobre la gestión de tus datos en Bolt y guiarte paso a paso y de una manera muy sencilla para comprender cómo eliminar una cuenta de #Bolt de forma permanente.  ★ #BoltOff #DeleteBolt ★ https://support.taxify.eu/hc/es/articles/360000336273-Eliminar-mi-cuenta', 'user': {'name': 'Resistencia VTC', 'username': '@EnLuchaVTC', 'profile_id': '1876619019391770624', 'avatar': 'https://pbs.twimg.com/profile_images/1876619019391770624/nqShyaAe_mini.jpg'}, 'date': 'Jul 1, 2022 · 2:50 PM UTC', 'pictures': ['https://pbs.twimg.com/media/FWlsMNfX0AAceQ-.jpg'], 'videos': [], 'gifs': []}, 'stats': {'comments': 0, 'retweets': 0, 'quotes': 0, 'likes': 1}, 'pictures': [], 'videos': [], 'gifs': []}, {'link': 'https://twitter.com/EnLuchaVTC/status/1599531223512072194#m', 'text': 'En #Barcelona nadie descansa en la \"#NocheDePegatinas\"  📵  #Cabify📴 #DeleteCabify #Uber📴 #DeleteUber #Bolt📴 #DeleteBolt   😎  #TerrenosConquistados #UrbanMobility #mobility #sustainability #citiesforpeople #ViajaViajando #VTC #MovilidadSostenible #SeamosNeutros #VecttorFamily', 'user': {'name': 'Resistencia VTC', 'username': '@EnLuchaVTC', 'profile_id': '1876619019391770624', 'avatar': 'https://pbs.twimg.com/profile_images/1876619019391770624/nqShyaAe_bigger.jpg'}, 'date': 'Dec 4, 2022 · 10:28 PM UTC', 'is-retweet': False, 'is-pinned': False, 'external-link': '', 'replying-to': [], 'quoted-post': {'link': '', 'text': '', 'user': {}, 'date': '', 'pictures': [], 'videos': [], 'gifs': []}, 'stats': {'comments': 0, 'retweets': 5, 'quotes': 0, 'likes': 10}, 'pictures': ['https://pbs.twimg.com/media/FjKqimfXwAM10n3.jpg'], 'videos': [], 'gifs': []}, {'link': 'https://twitter.com/Wordslinger__/status/1593643525362667522#m', 'text': 'Yes, yes. I deleted Bolt and I support #DeleteBolt with everything in me. Too many women and non-men have been harmed and attacked on Bolt cabs across the continent. In fact, because they have cheaper/more oppressive app rates, the likelihood of being harmed is far higher.', 'user': {'name': 'Writer | Climber | Mother of Dragons | Kas Ka Gan', 'username': '@Wordslinger__', 'profile_id': '1809240271042854912', 'avatar': 'https://pbs.twimg.com/profile_images/1809240271042854912/KHrBLxTg_bigger.jpg'}, 'date': 'Nov 18, 2022 · 4:33 PM UTC', 'is-retweet': False, 'is-pinned': False, 'external-link': '', 'replying-to': ['@marthamwatha'], 'quoted-post': {}, 'stats': {'comments': 0, 'retweets': 0, 'quotes': 0, 'likes': 0}, 'pictures': [], 'videos': [], 'gifs': []}, {'link': 'https://twitter.com/WambuaGregory1/status/1585629017629425667#m', 'text': '#deletebolt', 'user': {'name': 'Wambua Gregory', 'username': '@WambuaGregory1', 'profile_id': '1575412446176727040', 'avatar': 'https://pbs.twimg.com/profile_images/1575412446176727040/38jqfRIm_bigger.png'}, 'date': 'Oct 27, 2022 · 1:46 PM UTC', 'is-retweet': False, 'is-pinned': False, 'external-link': '', 'replying-to': ['@iamjoseh_'], 'quoted-post': {}, 'stats': {'comments': 0, 'retweets': 0, 'quotes': 0, 'likes': 0}, 'pictures': [], 'videos': [], 'gifs': []}, {'link': 'https://twitter.com/EnLuchaVTC/status/1573264217737674752#m', 'text': '⚠️ El \"ingenio\" del hierraco, desarrollado entre @boltapp y @MOVEA_, es una seria amenaza y un grave riesgo para el #tráfico, la #movilidad y la #SeguridadVial que la @DGTes no debería consentir.   #DeleteBolt', 'user': {'name': 'Resistencia VTC', 'username': '@EnLuchaVTC', 'profile_id': '1876619019391770624', 'avatar': 'https://pbs.twimg.com/profile_images/1876619019391770624/nqShyaAe_bigger.jpg'}, 'date': 'Sep 23, 2022 · 10:53 AM UTC', 'is-retweet': False, 'is-pinned': False, 'external-link': '', 'replying-to': [], 'quoted-post': {}, 'stats': {'comments': 0, 'retweets': 2, 'quotes': 0, 'likes': 7}, 'pictures': ['https://pbs.twimg.com/media/FdVbO5TXkAErMUE.png'], 'videos': [], 'gifs': []}, {'link': 'https://twitter.com/EnLuchaVTC/status/1568634519514763264#m', 'text': 'Embusteros emboscados tras una app:   🤥 #Bolt📴 «#citiesforpeople»   🚮📲 «Bye Bye Bolt» ★ #BoltOff #DeleteBolt ★', 'user': {'name': 'Resistencia VTC', 'username': '@EnLuchaVTC', 'profile_id': '1876619019391770624', 'avatar': 'https://pbs.twimg.com/profile_images/1876619019391770624/nqShyaAe_bigger.jpg'}, 'date': 'Sep 10, 2022 · 4:16 PM UTC', 'is-retweet': False, 'is-pinned': False, 'external-link': '', 'replying-to': [], 'quoted-post': {'link': 'https://twitter.com/EnLuchaVTC/status/1542883319481786369#m', 'text': '🚮📲 «Bye Bye Bolt»   Instrucciones para saber todo sobre la gestión de tus datos en Bolt y guiarte paso a paso y de una manera muy sencilla para comprender cómo eliminar una cuenta de #Bolt de forma permanente.  ★ #BoltOff #DeleteBolt ★ https://support.taxify.eu/hc/es/articles/360000336273-Eliminar-mi-cuenta', 'user': {'name': 'Resistencia VTC', 'username': '@EnLuchaVTC', 'profile_id': '1876619019391770624', 'avatar': 'https://pbs.twimg.com/profile_images/1876619019391770624/nqShyaAe_mini.jpg'}, 'date': 'Jul 1, 2022 · 2:50 PM UTC', 'pictures': ['https://pbs.twimg.com/media/FWlsMNfX0AAceQ-.jpg'], 'videos': [], 'gifs': []}, 'stats': {'comments': 0, 'retweets': 1, 'quotes': 0, 'likes': 0}, 'pictures': [], 'videos': [], 'gifs': []}, {'link': 'https://twitter.com/EnLuchaVTC/status/1567117562772656131#m', 'text': 'Sí, en esta ocasión sí vamos a dar la razón a #Bolt📴, ciertamente «hay una aplicación para todo». Como, por ejemplo, para borrar esta nociva app:   🚮📲 «Bye Bye Bolt» ★ #BoltOff #DeleteBolt ★', 'user': {'name': 'Resistencia VTC', 'username': '@EnLuchaVTC', 'profile_id': '1876619019391770624', 'avatar': 'https://pbs.twimg.com/profile_images/1876619019391770624/nqShyaAe_bigger.jpg'}, 'date': 'Sep 6, 2022 · 11:48 AM UTC', 'is-retweet': False, 'is-pinned': False, 'external-link': '', 'replying-to': [], 'quoted-post': {'link': 'https://twitter.com/boltapp/status/1567093874681679872#m', 'text': 'Big city life got you feeling overwhelmed? 🏙 Check out our list of the best apps to help you make the most of your urban living experience. From discovering new experiences to getting around quickly and safely, there’s an app for everything.👇 https://blog.bolt.eu/en/six-apps-to-make-city-life-easier/', 'user': {'name': 'Bolt', 'username': '@boltapp', 'profile_id': '1887418964399071233', 'avatar': 'https://pbs.twimg.com/profile_images/1887418964399071233/p3twl_5D_mini.jpg'}, 'date': 'Sep 6, 2022 · 10:14 AM UTC', 'pictures': [], 'videos': [], 'gifs': []}, 'stats': {'comments': 0, 'retweets': 1, 'quotes': 0, 'likes': 0}, 'pictures': ['https://pbs.twimg.com/media/Fb-EkBSXkAck_kW.jpg'], 'videos': [], 'gifs': []}, {'link': 'https://twitter.com/EnLuchaVTC/status/1552263207766614016#m', 'text': '🚮📲  #UberOff #DeleteUber ★ #CabifyOff #DeleteCabify ★ #BoltOff #DeleteBolt ★ #MutuaMadrileñaOff #DeleteMutuaMadrileña #DeleteLa_Mutua «Bye Bye @la_Mutua» ★', 'user': {'name': 'Resistencia VTC', 'username': '@EnLuchaVTC', 'profile_id': '1876619019391770624', 'avatar': 'https://pbs.twimg.com/profile_images/1876619019391770624/nqShyaAe_bigger.jpg'}, 'date': 'Jul 27, 2022 · 12:02 PM UTC', 'is-retweet': False, 'is-pinned': False, 'external-link': '', 'replying-to': [], 'quoted-post': {}, 'stats': {'comments': 0, 'retweets': 4, 'quotes': 0, 'likes': 1}, 'pictures': ['https://pbs.twimg.com/media/FYq_HELXwAMxrc6.jpg'], 'videos': [], 'gifs': []}, {'link': 'https://twitter.com/EnLuchaVTC/status/1546085171446816768#m', 'text': '🚮📲 «Bye Bye Bolt» ★ #BoltOff #DeleteBolt ★', 'user': {'name': 'Resistencia VTC', 'username': '@EnLuchaVTC', 'profile_id': '1876619019391770624', 'avatar': 'https://pbs.twimg.com/profile_images/1876619019391770624/nqShyaAe_bigger.jpg'}, 'date': 'Jul 10, 2022 · 10:53 AM UTC', 'is-retweet': False, 'is-pinned': False, 'external-link': '', 'replying-to': [], 'quoted-post': {'link': 'https://twitter.com/EnLuchaVTC/status/1542883319481786369#m', 'text': '🚮📲 «Bye Bye Bolt»   Instrucciones para saber todo sobre la gestión de tus datos en Bolt y guiarte paso a paso y de una manera muy sencilla para comprender cómo eliminar una cuenta de #Bolt de forma permanente.  ★ #BoltOff #DeleteBolt ★ https://support.taxify.eu/hc/es/articles/360000336273-Eliminar-mi-cuenta', 'user': {'name': 'Resistencia VTC', 'username': '@EnLuchaVTC', 'profile_id': '1876619019391770624', 'avatar': 'https://pbs.twimg.com/profile_images/1876619019391770624/nqShyaAe_mini.jpg'}, 'date': 'Jul 1, 2022 · 2:50 PM UTC', 'pictures': ['https://pbs.twimg.com/media/FWlsMNfX0AAceQ-.jpg'], 'videos': [], 'gifs': []}, 'stats': {'comments': 0, 'retweets': 1, 'quotes': 0, 'likes': 2}, 'pictures': [], 'videos': [], 'gifs': []}, {'link': 'https://twitter.com/EnLuchaVTC/status/1542883319481786369#m', 'text': '🚮📲 «Bye Bye Bolt»   Instrucciones para saber todo sobre la gestión de tus datos en Bolt y guiarte paso a paso y de una manera muy sencilla para comprender cómo eliminar una cuenta de #Bolt de forma permanente.  ★ #BoltOff #DeleteBolt ★ https://support.taxify.eu/hc/es/articles/360000336273-Eliminar-mi-cuenta', 'user': {'name': 'Resistencia VTC', 'username': '@EnLuchaVTC', 'profile_id': '1876619019391770624', 'avatar': 'https://pbs.twimg.com/profile_images/1876619019391770624/nqShyaAe_bigger.jpg'}, 'date': 'Jul 1, 2022 · 2:50 PM UTC', 'is-retweet': False, 'is-pinned': False, 'external-link': '', 'replying-to': [], 'quoted-post': {}, 'stats': {'comments': 0, 'retweets': 3, 'quotes': 2, 'likes': 4}, 'pictures': ['https://pbs.twimg.com/media/FWlsMNfX0AAceQ-.jpg'], 'videos': [], 'gifs': []}, {'link': 'https://twitter.com/FloneInitiative/status/1504388148159258631#m', 'text': 'On September 2021, there was a trending thread among the members of the public complaining about numerous harassment incidents while using ride-sharing taxi notably Bolt. Refer to hashtag #DeleteBolt', 'user': {'name': 'Flone Initiative #Gender&DisabilityInclusion', 'username': '@FloneInitiative', 'profile_id': '1037738538853429248', 'avatar': 'https://pbs.twimg.com/profile_images/1037738538853429248/0UU_qN_9_bigger.jpg'}, 'date': 'Mar 17, 2022 · 9:24 AM UTC', 'is-retweet': False, 'is-pinned': False, 'external-link': '', 'replying-to': [], 'quoted-post': {}, 'stats': {'comments': 1, 'retweets': 0, 'quotes': 0, 'likes': 0}, 'pictures': [], 'videos': [], 'gifs': []}, {'link': 'https://twitter.com/mooshtaffa/status/1503970415269584899#m', 'text': 'So @Boltapp_ng is as treacherous as @Boltapp_za #DeleteBolt   Read this thread 🧵', 'user': {'name': 'Zimasa “Gcaga” Vabaza', 'username': '@mooshtaffa', 'profile_id': '1650778937973243904', 'avatar': 'https://pbs.twimg.com/profile_images/1650778937973243904/Fo1ppatr_bigger.jpg'}, 'date': 'Mar 16, 2022 · 5:44 AM UTC', 'is-retweet': False, 'is-pinned': False, 'external-link': '', 'replying-to': [], 'quoted-post': {'link': 'https://twitter.com/sizzle314/status/1503788805899366412#m', 'text': \"I don't usually do this, but perhaps I can help keep someone safe by sharing this. So here goes.  Please before entering a trip that you book on ride sharing apps (uber, bolt, etc),  in addition to confirming the vehicle and plate number, make sure that the car OPENS FROM INSIDE!\", 'user': {'name': 'Remy LeBeau', 'username': '@sizzle314', 'profile_id': '1781365980477693952', 'avatar': 'https://pbs.twimg.com/profile_images/1781365980477693952/uqQUcIxA_mini.jpg'}, 'date': 'Mar 15, 2022 · 5:42 PM UTC', 'pictures': [], 'videos': [], 'gifs': []}, 'stats': {'comments': 0, 'retweets': 1, 'quotes': 0, 'likes': 1}, 'pictures': [], 'videos': [], 'gifs': []}, {'link': 'https://twitter.com/james_andale/status/1499966096358604805#m', 'text': 'There was a hashtag here #Deletebolt I think people should now learn from experience', 'user': {'name': 'Sir Jay', 'username': '@james_andale', 'profile_id': '1294007932120707073', 'avatar': 'https://pbs.twimg.com/profile_images/1294007932120707073/_UQeiEcQ_bigger.jpg'}, 'date': 'Mar 5, 2022 · 4:32 AM UTC', 'is-retweet': False, 'is-pinned': False, 'external-link': '', 'replying-to': ['@BravinYuri'], 'quoted-post': {}, 'stats': {'comments': 0, 'retweets': 0, 'quotes': 0, 'likes': 0}, 'pictures': [], 'videos': [], 'gifs': []}, {'link': 'https://twitter.com/NalediThari/status/1498859072917053443#m', 'text': 'His suspension means nothing. A young woman is traumatized for life. She will never go into an i-hailing service again, which she probably needs to get around and make a living or go to classes.  #DeleteBolt #DeleteBolt', 'user': {'name': '🇿🇦 Naledi⭐️', 'username': '@NalediThari', 'profile_id': '1756677084183674880', 'avatar': 'https://pbs.twimg.com/profile_images/1756677084183674880/NWGqUqqa_bigger.jpg'}, 'date': 'Mar 2, 2022 · 3:13 AM UTC', 'is-retweet': False, 'is-pinned': False, 'external-link': '', 'replying-to': ['@News24', '@CannyMaphanga'], 'quoted-post': {}, 'stats': {'comments': 0, 'retweets': 1, 'quotes': 0, 'likes': 6}, 'pictures': [], 'videos': [], 'gifs': []}, {'link': 'https://twitter.com/NeroExp/status/1498726472143589380#m', 'text': '#DeleteBolt', 'user': {'name': 'Nino graFithi 😎𓆗', 'username': '@NeroExp', 'profile_id': '1457624637462953989', 'avatar': 'https://pbs.twimg.com/profile_images/1457624637462953989/p7MTQ8jJ_bigger.jpg'}, 'date': 'Mar 1, 2022 · 6:26 PM UTC', 'is-retweet': False, 'is-pinned': False, 'external-link': '', 'replying-to': [], 'quoted-post': {'link': 'https://twitter.com/News24/status/1498694934546763776#m', 'text': 'E-hailing app Bolt South Africa has suspended one of its drivers who was accused of sexual assault over the weekend. | @CannyMaphanga https://www.news24.com/news24/southafrica/news/bolt-suspends-driver-accused-of-rape-from-platform-condemns-any-form-of-violence-20220301', 'user': {'name': 'News24 🇿🇦', 'username': '@News24', 'profile_id': '1890643210222845952', 'avatar': 'https://pbs.twimg.com/profile_images/1890643210222845952/HvljLItu_mini.jpg'}, 'date': 'Mar 1, 2022 · 4:21 PM UTC', 'pictures': [], 'videos': [], 'gifs': []}, 'stats': {'comments': 1, 'retweets': 6, 'quotes': 0, 'likes': 4}, 'pictures': [], 'videos': [], 'gifs': []}, {'link': 'https://twitter.com/MissChaz_/status/1498659892055396359#m', 'text': 'At this point @boltapp @Boltapp_za is a crime syndicate posing as a driving service. #CancelBolt #bolt #deletebolt', 'user': {'name': 'Charmaine', 'username': '@MissChaz_', 'profile_id': '1406387187009134595', 'avatar': 'https://pbs.twimg.com/profile_images/1406387187009134595/F94i7UCM_bigger.jpg'}, 'date': 'Mar 1, 2022 · 2:02 PM UTC', 'is-retweet': False, 'is-pinned': False, 'external-link': '', 'replying-to': [], 'quoted-post': {'link': 'https://twitter.com/VictorGreatree/status/1498308237522780161#m', 'text': 'Around 3am this morning my nephew & his friends a guy and the young girl were robbed and stabbed by @bolt driver and his friend. They then forced my nephew & his friend out of the car and drove off with the girl. She is still missing.', 'user': {'name': 'South African blood (Zulu soul) 🇿🇦 🇷🇺', 'username': '@VictorGreatree', 'profile_id': '1828344874074034177', 'avatar': 'https://pbs.twimg.com/profile_images/1828344874074034177/Kq5W7_dR_mini.jpg'}, 'date': 'Feb 28, 2022 · 2:44 PM UTC', 'pictures': [], 'videos': [], 'gifs': []}, 'stats': {'comments': 0, 'retweets': 0, 'quotes': 0, 'likes': 0}, 'pictures': [], 'videos': [], 'gifs': []}, {'link': 'https://twitter.com/tasha_amara/status/1498639397310406657#m', 'text': 'Petition against Bolt South Africa for not vetting/verifying its drivers - Sign the Petition! https://chng.it/mzqrJXH9 via @ChangeorgSA #CancelBolt #BOLT #deletebolt', 'user': {'name': 'b👑', 'username': '@tasha_amara', 'profile_id': '1899833166841487360', 'avatar': 'https://pbs.twimg.com/profile_images/1899833166841487360/2aBCZLjA_bigger.jpg'}, 'date': 'Mar 1, 2022 · 12:40 PM UTC', 'is-retweet': False, 'is-pinned': False, 'external-link': '', 'replying-to': [], 'quoted-post': {}, 'stats': {'comments': 0, 'retweets': 0, 'quotes': 0, 'likes': 0}, 'pictures': [], 'videos': [], 'gifs': []}, {'link': 'https://twitter.com/MusawenkosiLee/status/1498574141087260673#m', 'text': 'So @Boltapp_za is giving us 30 percent to keep our mouths shut! Never, our people are dying in the hands of the thugs you employed. Women no longer feel safe, they get raped every day cause of your employees. #CancelBolt #deletebolt', 'user': {'name': 'Leeroy. Musawenkosi.', 'username': '@MusawenkosiLee', 'profile_id': '1449450973462679552', 'avatar': 'https://pbs.twimg.com/profile_images/1449450973462679552/b4-k-DDz_bigger.jpg'}, 'date': 'Mar 1, 2022 · 8:21 AM UTC', 'is-retweet': False, 'is-pinned': False, 'external-link': '', 'replying-to': [], 'quoted-post': {}, 'stats': {'comments': 0, 'retweets': 1, 'quotes': 0, 'likes': 1}, 'pictures': ['https://pbs.twimg.com/media/FMwBO6tXMAYq34t.jpg'], 'videos': [], 'gifs': []}, {'link': 'https://twitter.com/mizzloy_sum/status/1498525995858640898#m', 'text': 'I had an accident while using @Boltapp_ke and the driver ddnt report the accident nor helped me get another Uber after making me pay full amount..I immediately deleted #BOLT and used @Uber (I mean they give good services) to get home. #deletebolt @bonifacemwangi', 'user': {'name': 'candycane', 'username': '@mizzloy_sum', 'profile_id': '1724099125598203905', 'avatar': 'https://pbs.twimg.com/profile_images/1724099125598203905/z97sBJwo_bigger.jpg'}, 'date': 'Mar 1, 2022 · 5:10 AM UTC', 'is-retweet': False, 'is-pinned': False, 'external-link': '', 'replying-to': [], 'quoted-post': {}, 'stats': {'comments': 3, 'retweets': 0, 'quotes': 0, 'likes': 1}, 'pictures': [], 'videos': ['https://video.twimg.com/ext_tw_video/1498525928380641283/pu/vid/720x1280/dzTZGADHTxQWM9Np.mp4?tag=12'], 'gifs': []}, {'link': 'https://twitter.com/SlyPod/status/1498374134463713287#m', 'text': 'Never 🚫  Your drivers are thieves & rapists who prey on women. They know you will not take accountability or responsibility. You have no screening process. You won’t fix the issue of profile renting or respond to reported criminal acts sensibly. #DeleteBolt', 'user': {'name': 'Selaelo_Mannya', 'username': '@SlyPod', 'profile_id': '1436649455344885765', 'avatar': 'https://pbs.twimg.com/profile_images/1436649455344885765/-aNU5ywV_bigger.jpg'}, 'date': 'Feb 28, 2022 · 7:06 PM UTC', 'is-retweet': False, 'is-pinned': False, 'external-link': '', 'replying-to': [], 'quoted-post': {'link': '', 'text': '', 'user': {}, 'date': '', 'pictures': [], 'videos': [], 'gifs': []}, 'stats': {'comments': 0, 'retweets': 0, 'quotes': 0, 'likes': 2}, 'pictures': [], 'videos': [], 'gifs': []}, {'link': 'https://twitter.com/NoloMahlo420/status/1498295069664817157#m', 'text': \"Let's hit #Bolt where it gon hurt the most, #deletebolt!\", 'user': {'name': 'Mahlogonolo Mahlo', 'username': '@NoloMahlo420', 'profile_id': '1468554759850409987', 'avatar': 'https://pbs.twimg.com/profile_images/1468554759850409987/OYjxT1dj_bigger.jpg'}, 'date': 'Feb 28, 2022 · 1:52 PM UTC', 'is-retweet': False, 'is-pinned': False, 'external-link': '', 'replying-to': [], 'quoted-post': {'link': '', 'text': '', 'user': {}, 'date': '', 'pictures': [], 'videos': [], 'gifs': []}, 'stats': {'comments': 0, 'retweets': 0, 'quotes': 0, 'likes': 0}, 'pictures': [], 'videos': [], 'gifs': []}, {'link': 'https://twitter.com/NeroExp/status/1497904851245801475#m', 'text': 'Delete this app guys! #DeleteBolt', 'user': {'name': 'Nino graFithi 😎𓆗', 'username': '@NeroExp', 'profile_id': '1457624637462953989', 'avatar': 'https://pbs.twimg.com/profile_images/1457624637462953989/p7MTQ8jJ_bigger.jpg'}, 'date': 'Feb 27, 2022 · 12:02 PM UTC', 'is-retweet': False, 'is-pinned': False, 'external-link': '', 'replying-to': [], 'quoted-post': {'link': '', 'text': '', 'user': {}, 'date': '', 'pictures': [], 'videos': [], 'gifs': []}, 'stats': {'comments': 0, 'retweets': 1, 'quotes': 0, 'likes': 0}, 'pictures': [], 'videos': [], 'gifs': []}, {'link': 'https://twitter.com/florencemasetla/status/1497854365624901632#m', 'text': '#Deletebolt', 'user': {'name': 'Diariesofalobedugirl🇿🇦🇨🇳🇰🇷洛贝杜女孩的日记', 'username': '@florencemasetla', 'profile_id': '1804427554603839488', 'avatar': 'https://pbs.twimg.com/profile_images/1804427554603839488/0FiXwnlx_bigger.jpg'}, 'date': 'Feb 27, 2022 · 8:41 AM UTC', 'is-retweet': False, 'is-pinned': False, 'external-link': '', 'replying-to': ['@Anele'], 'quoted-post': {}, 'stats': {'comments': 0, 'retweets': 0, 'quotes': 0, 'likes': 0}, 'pictures': ['https://pbs.twimg.com/media/FMlymjbWYAUHxcU.jpg', 'https://pbs.twimg.com/media/FMlym0GXEAYgEah.jpg'], 'videos': [], 'gifs': []}, {'link': 'https://twitter.com/discoverkhai/status/1497820616501739522#m', 'text': 'So again, DELETE APP UNTIL IT’S RESTRUCTURED AND SAFETY IS GUARANTEED for fuck’s sake!!! #CancelBolt #deleteBolt', 'user': {'name': 'Khài', 'username': '@discoverkhai', 'profile_id': '1844662200851378183', 'avatar': 'https://pbs.twimg.com/profile_images/1844662200851378183/7_v8RIBG_bigger.jpg'}, 'date': 'Feb 27, 2022 · 6:27 AM UTC', 'is-retweet': False, 'is-pinned': False, 'external-link': '', 'replying-to': [], 'quoted-post': {}, 'stats': {'comments': 1, 'retweets': 0, 'quotes': 0, 'likes': 1}, 'pictures': ['https://pbs.twimg.com/media/FMlT6KKWUAAnCsK.jpg'], 'videos': [], 'gifs': []}, {'link': 'https://twitter.com/discoverkhai/status/1497820607051825153#m', 'text': 'Why does it take so long for victims to get a single response?????? @Boltapp_za #CancelBolt #deleteBolt', 'user': {'name': 'Khài', 'username': '@discoverkhai', 'profile_id': '1844662200851378183', 'avatar': 'https://pbs.twimg.com/profile_images/1844662200851378183/7_v8RIBG_bigger.jpg'}, 'date': 'Feb 27, 2022 · 6:27 AM UTC', 'is-retweet': False, 'is-pinned': False, 'external-link': '', 'replying-to': [], 'quoted-post': {}, 'stats': {'comments': 1, 'retweets': 0, 'quotes': 0, 'likes': 0}, 'pictures': [], 'videos': [], 'gifs': []}, {'link': 'https://twitter.com/discoverkhai/status/1497820604459802626#m', 'text': 'Now I’d say delete the app forever even but Bolt puts food on the table for so many people. But how the fuck do you have these many complaints as a company with 96% unresolved??? @Boltapp_za #deleteBolt #CancelBolt', 'user': {'name': 'Khài', 'username': '@discoverkhai', 'profile_id': '1844662200851378183', 'avatar': 'https://pbs.twimg.com/profile_images/1844662200851378183/7_v8RIBG_bigger.jpg'}, 'date': 'Feb 27, 2022 · 6:27 AM UTC', 'is-retweet': False, 'is-pinned': False, 'external-link': '', 'replying-to': [], 'quoted-post': {}, 'stats': {'comments': 1, 'retweets': 0, 'quotes': 0, 'likes': 1}, 'pictures': ['https://pbs.twimg.com/media/FMlT5fOXwAAT3CM.jpg'], 'videos': [], 'gifs': []}, {'link': 'https://twitter.com/konolicious1/status/1497645676766838791#m', 'text': '#deletebolt', 'user': {'name': 'PinkDiamondLooks', 'username': '@konolicious1', 'profile_id': '1796818818896982017', 'avatar': 'https://pbs.twimg.com/profile_images/1796818818896982017/NMO8RTHH_bigger.jpg'}, 'date': 'Feb 26, 2022 · 6:52 PM UTC', 'is-retweet': False, 'is-pinned': False, 'external-link': '', 'replying-to': [], 'quoted-post': {}, 'stats': {'comments': 0, 'retweets': 0, 'quotes': 0, 'likes': 0}, 'pictures': [], 'videos': [], 'gifs': []}, {'link': 'https://twitter.com/Tintswa11863703/status/1497597012052791296#m', 'text': '#CancelBolt #DeleteBolt #Bolt', 'user': {'name': 'Tintswalo', 'username': '@Tintswa11863703', 'profile_id': '1004699485224751105', 'avatar': 'https://pbs.twimg.com/profile_images/1004699485224751105/FL0q-3zp_bigger.jpg'}, 'date': 'Feb 26, 2022 · 3:38 PM UTC', 'is-retweet': False, 'is-pinned': False, 'external-link': '', 'replying-to': [], 'quoted-post': {}, 'stats': {'comments': 0, 'retweets': 0, 'quotes': 0, 'likes': 0}, 'pictures': [], 'videos': ['https://video.twimg.com/ext_tw_video/1497596365999853575/pu/vid/596x1088/nRo-HdGYcL01RD7A.mp4?tag=12'], 'gifs': []}, {'link': 'https://twitter.com/NeroExp/status/1497196905151012885#m', 'text': \"True but this can only be fixed if they lose out on customers, since government @MbalulaFikile won't intervene #DeleteBolt\", 'user': {'name': 'Nino graFithi 😎𓆗', 'username': '@NeroExp', 'profile_id': '1457624637462953989', 'avatar': 'https://pbs.twimg.com/profile_images/1457624637462953989/p7MTQ8jJ_bigger.jpg'}, 'date': 'Feb 25, 2022 · 1:08 PM UTC', 'is-retweet': False, 'is-pinned': False, 'external-link': '', 'replying-to': ['@Lonz_Sigabi'], 'quoted-post': {}, 'stats': {'comments': 0, 'retweets': 0, 'quotes': 0, 'likes': 0}, 'pictures': [], 'videos': [], 'gifs': []}, {'link': 'https://twitter.com/NeroExp/status/1497194328082554894#m', 'text': 'That should tell everyone that it is much easier to register as a driver for Bolt than it is with Uber. Bolt clearly does not screen drivers properly. #DeleteBolt', 'user': {'name': 'Nino graFithi 😎𓆗', 'username': '@NeroExp', 'profile_id': '1457624637462953989', 'avatar': 'https://pbs.twimg.com/profile_images/1457624637462953989/p7MTQ8jJ_bigger.jpg'}, 'date': 'Feb 25, 2022 · 12:58 PM UTC', 'is-retweet': False, 'is-pinned': False, 'external-link': '', 'replying-to': ['@fadz043'], 'quoted-post': {}, 'stats': {'comments': 0, 'retweets': 1, 'quotes': 0, 'likes': 0}, 'pictures': [], 'videos': [], 'gifs': []}, {'link': 'https://twitter.com/NeroExp/status/1497192603980386305#m', 'text': 'Exactly #DeleteBolt', 'user': {'name': 'Nino graFithi 😎𓆗', 'username': '@NeroExp', 'profile_id': '1457624637462953989', 'avatar': 'https://pbs.twimg.com/profile_images/1457624637462953989/p7MTQ8jJ_bigger.jpg'}, 'date': 'Feb 25, 2022 · 12:51 PM UTC', 'is-retweet': False, 'is-pinned': False, 'external-link': '', 'replying-to': ['@ThisIsSaleni'], 'quoted-post': {}, 'stats': {'comments': 0, 'retweets': 0, 'quotes': 0, 'likes': 0}, 'pictures': [], 'videos': [], 'gifs': []}, {'link': 'https://twitter.com/NalediThari/status/1497186258895970310#m', 'text': \"We need to stop using them NOW. Let's delete their app. #DeleteBolt\", 'user': {'name': '🇿🇦 Naledi⭐️', 'username': '@NalediThari', 'profile_id': '1756677084183674880', 'avatar': 'https://pbs.twimg.com/profile_images/1756677084183674880/NWGqUqqa_bigger.jpg'}, 'date': 'Feb 25, 2022 · 12:26 PM UTC', 'is-retweet': False, 'is-pinned': False, 'external-link': '', 'replying-to': ['@Luluthebearr'], 'quoted-post': {}, 'stats': {'comments': 0, 'retweets': 10, 'quotes': 0, 'likes': 11}, 'pictures': [], 'videos': [], 'gifs': []}, {'link': 'https://twitter.com/Bmi254/status/1496042931320504320#m', 'text': '#deletebolt even your customers after giving them hundreds of discounts they are still asking drivers to drop them on credit #bolt mumesota Hadi machokora customers #stupidboltcustomers #stupidboltkenyathiefs #deletebol', 'user': {'name': 'Benjamin Irene', 'username': '@Bmi254', 'profile_id': '1438773663529152512', 'avatar': 'https://pbs.twimg.com/profile_images/1438773663529152512/10j0VHZc_bigger.jpg'}, 'date': 'Feb 22, 2022 · 8:43 AM UTC', 'is-retweet': False, 'is-pinned': False, 'external-link': '', 'replying-to': [], 'quoted-post': {}, 'stats': {'comments': 0, 'retweets': 0, 'quotes': 0, 'likes': 0}, 'pictures': ['https://pbs.twimg.com/media/FMMDHe-XwAI3iUH.jpg'], 'videos': [], 'gifs': []}, {'link': 'https://twitter.com/MaichPhilip/status/1495784761662623744#m', 'text': '@Boltapp_ke is loosing  it morals in kenya 🇰🇪 drivers have decided to get this oppressive app from this country #deletebolt .', 'user': {'name': 'Philip Maich', 'username': '@MaichPhilip', 'profile_id': '1668586327787315204', 'avatar': 'https://pbs.twimg.com/profile_images/1668586327787315204/iLfIvfI3_bigger.jpg'}, 'date': 'Feb 21, 2022 · 3:37 PM UTC', 'is-retweet': False, 'is-pinned': False, 'external-link': '', 'replying-to': [], 'quoted-post': {}, 'stats': {'comments': 0, 'retweets': 0, 'quotes': 0, 'likes': 0}, 'pictures': ['https://pbs.twimg.com/media/FMIYUA4X0Ace709.jpg'], 'videos': [], 'gifs': []}, {'link': 'https://twitter.com/Bmi254/status/1494610350741897216#m', 'text': '#deletebolt they are thiefs and oppressors', 'user': {'name': 'Benjamin Irene', 'username': '@Bmi254', 'profile_id': '1438773663529152512', 'avatar': 'https://pbs.twimg.com/profile_images/1438773663529152512/10j0VHZc_bigger.jpg'}, 'date': 'Feb 18, 2022 · 9:50 AM UTC', 'is-retweet': False, 'is-pinned': False, 'external-link': '', 'replying-to': [], 'quoted-post': {}, 'stats': {'comments': 0, 'retweets': 0, 'quotes': 0, 'likes': 0}, 'pictures': [], 'videos': [], 'gifs': []}, {'link': 'https://twitter.com/Bmi254/status/1494610103705776131#m', 'text': '#deletebolt', 'user': {'name': 'Benjamin Irene', 'username': '@Bmi254', 'profile_id': '1438773663529152512', 'avatar': 'https://pbs.twimg.com/profile_images/1438773663529152512/10j0VHZc_bigger.jpg'}, 'date': 'Feb 18, 2022 · 9:49 AM UTC', 'is-retweet': False, 'is-pinned': False, 'external-link': '', 'replying-to': [], 'quoted-post': {}, 'stats': {'comments': 0, 'retweets': 0, 'quotes': 0, 'likes': 0}, 'pictures': [], 'videos': [], 'gifs': []}, {'link': 'https://twitter.com/Bmi254/status/1494593510414168064#m', 'text': 'We know your handwriting #deletebolt is your bother or ride cancellation??? State your problem', 'user': {'name': 'Benjamin Irene', 'username': '@Bmi254', 'profile_id': '1438773663529152512', 'avatar': 'https://pbs.twimg.com/profile_images/1438773663529152512/10j0VHZc_bigger.jpg'}, 'date': 'Feb 18, 2022 · 8:43 AM UTC', 'is-retweet': False, 'is-pinned': False, 'external-link': '', 'replying-to': ['@Qalvins'], 'quoted-post': {}, 'stats': {'comments': 1, 'retweets': 0, 'quotes': 0, 'likes': 0}, 'pictures': [], 'videos': [], 'gifs': []}, {'link': 'https://twitter.com/Bmi254/status/1494591331095752734#m', 'text': \"You can't tell me I hv a limit!! If you say I hv reached and your customers keeps behaving uneducated will I false my self looking for them for them to cancel later after waisting my fuel and time??? unblock my account or pay my money #deletebolt\", 'user': {'name': 'Benjamin Irene', 'username': '@Bmi254', 'profile_id': '1438773663529152512', 'avatar': 'https://pbs.twimg.com/profile_images/1438773663529152512/10j0VHZc_bigger.jpg'}, 'date': 'Feb 18, 2022 · 8:35 AM UTC', 'is-retweet': False, 'is-pinned': False, 'external-link': '', 'replying-to': [], 'quoted-post': {}, 'stats': {'comments': 1, 'retweets': 0, 'quotes': 0, 'likes': 0}, 'pictures': [], 'videos': [], 'gifs': []}, {'link': 'https://twitter.com/Bmi254/status/1494590517153255424#m', 'text': \"If he or she continues to tell you wait wait for over 30min then a cancel nani ataenda hasara the driver since there is no cancellation fee nor waiting time that's y customer will always waist drivers. Unblock my account or pay back my money #deletebolt\", 'user': {'name': 'Benjamin Irene', 'username': '@Bmi254', 'profile_id': '1438773663529152512', 'avatar': 'https://pbs.twimg.com/profile_images/1438773663529152512/10j0VHZc_bigger.jpg'}, 'date': 'Feb 18, 2022 · 8:32 AM UTC', 'is-retweet': False, 'is-pinned': False, 'external-link': '', 'replying-to': [], 'quoted-post': {}, 'stats': {'comments': 3, 'retweets': 0, 'quotes': 0, 'likes': 0}, 'pictures': [], 'videos': [], 'gifs': []}, {'link': 'https://twitter.com/Bmi254/status/1494589827949473816#m', 'text': 'Clarify here no hidden agender your customers are requesting then wanaingia kwa bathroom kuoga driver to wait aoge ajipondoe etc all that time do we really have that time?? A drunk person request den hakuji  we go tel dj azime music Kuna customer wa boloti unatafuta?? #deletebolt', 'user': {'name': 'Benjamin Irene', 'username': '@Bmi254', 'profile_id': '1438773663529152512', 'avatar': 'https://pbs.twimg.com/profile_images/1438773663529152512/10j0VHZc_bigger.jpg'}, 'date': 'Feb 18, 2022 · 8:29 AM UTC', 'is-retweet': False, 'is-pinned': False, 'external-link': '', 'replying-to': [], 'quoted-post': {}, 'stats': {'comments': 0, 'retweets': 0, 'quotes': 0, 'likes': 0}, 'pictures': [], 'videos': [], 'gifs': []}, {'link': 'https://twitter.com/Bmi254/status/1494588614361165826#m', 'text': 'The discussion remain here customer did not show feature is there on the app to help driver but sio kunyanyasa my argument is if I state customer didnt show up where do you want me to get the customer??? #deletebolt', 'user': {'name': 'Benjamin Irene', 'username': '@Bmi254', 'profile_id': '1438773663529152512', 'avatar': 'https://pbs.twimg.com/profile_images/1438773663529152512/10j0VHZc_bigger.jpg'}, 'date': 'Feb 18, 2022 · 8:24 AM UTC', 'is-retweet': False, 'is-pinned': False, 'external-link': '', 'replying-to': [], 'quoted-post': {}, 'stats': {'comments': 1, 'retweets': 0, 'quotes': 0, 'likes': 0}, 'pictures': [], 'videos': [], 'gifs': []}, {'link': 'https://twitter.com/Bmi254/status/1494580422285668352#m', 'text': 'So if you reach your threshold which is 10percent you wait for client for over whole day, or in town you wait till kanjo come arrest you and get changed 10k for a trip of 150??? Bolt you should be reasonable client did not show should not affect drivers. #deletebolt', 'user': {'name': 'Benjamin Irene', 'username': '@Bmi254', 'profile_id': '1438773663529152512', 'avatar': 'https://pbs.twimg.com/profile_images/1438773663529152512/10j0VHZc_bigger.jpg'}, 'date': 'Feb 18, 2022 · 7:51 AM UTC', 'is-retweet': False, 'is-pinned': False, 'external-link': '', 'replying-to': [], 'quoted-post': {}, 'stats': {'comments': 0, 'retweets': 0, 'quotes': 0, 'likes': 0}, 'pictures': [], 'videos': [], 'gifs': []}, {'link': 'https://twitter.com/Bmi254/status/1494576699601793040#m', 'text': 'You hv put all your burdens and that of clients to drivers are we not human toooo??? We the drivers and partners we deserve better #deletebolt', 'user': {'name': 'Benjamin Irene', 'username': '@Bmi254', 'profile_id': '1438773663529152512', 'avatar': 'https://pbs.twimg.com/profile_images/1438773663529152512/10j0VHZc_bigger.jpg'}, 'date': 'Feb 18, 2022 · 7:37 AM UTC', 'is-retweet': False, 'is-pinned': False, 'external-link': '', 'replying-to': [], 'quoted-post': {}, 'stats': {'comments': 0, 'retweets': 0, 'quotes': 0, 'likes': 0}, 'pictures': [], 'videos': [], 'gifs': []}, {'link': 'https://twitter.com/Bmi254/status/1494576036230701058#m', 'text': \"@Boltapp_ke you blocked my account till 2038 these is a permanent block reason being customer did not show. What did you want me to do if customer didn't show?!!? Was I supposed to go out shouting in town, malls bars or residentials the name of customers???? #deletebolt\", 'user': {'name': 'Benjamin Irene', 'username': '@Bmi254', 'profile_id': '1438773663529152512', 'avatar': 'https://pbs.twimg.com/profile_images/1438773663529152512/10j0VHZc_bigger.jpg'}, 'date': 'Feb 18, 2022 · 7:34 AM UTC', 'is-retweet': False, 'is-pinned': False, 'external-link': '', 'replying-to': [], 'quoted-post': {}, 'stats': {'comments': 2, 'retweets': 0, 'quotes': 0, 'likes': 1}, 'pictures': ['https://pbs.twimg.com/media/FL3M-8_XMAUyDcz.jpg'], 'videos': [], 'gifs': []}, {'link': 'https://twitter.com/Moranga09728573/status/1494223347764375552#m', 'text': \"Stop behaving like Satan,  you don't own this vehicles, stop treating drivers like your employees,  you can't just decide to begin punishing drivers,  a drunk slay queen request a cab, keeps you waiting for 30 min, the drunk idiot decides to cancels and you're blamed. #deletebolt\", 'user': {'name': 'Moranga', 'username': '@Moranga09728573', 'profile_id': '1493865644374343680', 'avatar': 'https://pbs.twimg.com/profile_images/1493865644374343680/hJjQlVxE_bigger.jpg'}, 'date': 'Feb 17, 2022 · 8:13 AM UTC', 'is-retweet': False, 'is-pinned': False, 'external-link': '', 'replying-to': [], 'quoted-post': {}, 'stats': {'comments': 0, 'retweets': 0, 'quotes': 0, 'likes': 0}, 'pictures': [], 'videos': [], 'gifs': []}, {'link': 'https://twitter.com/itsmboti/status/1470994977538904066#m', 'text': '#deletebolt', 'user': {'name': 'I hate fiat🍉', 'username': '@itsmboti', 'profile_id': '1888244882172452865', 'avatar': 'https://pbs.twimg.com/profile_images/1888244882172452865/ZGzM0R2v_bigger.jpg'}, 'date': 'Dec 15, 2021 · 5:51 AM UTC', 'is-retweet': False, 'is-pinned': False, 'external-link': '', 'replying-to': ['@Dreymwangi'], 'quoted-post': {}, 'stats': {'comments': 0, 'retweets': 0, 'quotes': 0, 'likes': 0}, 'pictures': [], 'videos': [], 'gifs': []}, {'link': 'https://twitter.com/rRemariiio/status/1470340206851149827#m', 'text': '#DeleteBolt #CancelBolt #NoMoreBolt', 'user': {'name': 'R e m y 🇿🇦🦄😈', 'username': '@rRemariiio', 'profile_id': '1506234118102732804', 'avatar': 'https://pbs.twimg.com/profile_images/1506234118102732804/QyB3Tk3f_bigger.jpg'}, 'date': 'Dec 13, 2021 · 10:29 AM UTC', 'is-retweet': False, 'is-pinned': False, 'external-link': '', 'replying-to': ['@lasizwe'], 'quoted-post': {}, 'stats': {'comments': 0, 'retweets': 0, 'quotes': 0, 'likes': 0}, 'pictures': [], 'videos': [], 'gifs': []}, {'link': 'https://twitter.com/zediglobal_/status/1470031190757453824#m', 'text': \"I thought #DeleteBolt was just a agenda. Kumbe it's this serious? Damn.\", 'user': {'name': 'Abel Zedi', 'username': '@zediglobal_', 'profile_id': '1895535147505647616', 'avatar': 'https://pbs.twimg.com/profile_images/1895535147505647616/k62LDQ8e_bigger.jpg'}, 'date': 'Dec 12, 2021 · 2:02 PM UTC', 'is-retweet': False, 'is-pinned': False, 'external-link': '', 'replying-to': [], 'quoted-post': {'link': 'https://twitter.com/FreshByCaddy/status/1469656816342958081#m', 'text': 'STOP USING BOLT.  Guys my Friend got mugged and stabbed by a bolt driver last night. 😭 please be safe tuh', 'user': {'name': 'CADDY', 'username': '@FreshByCaddy', 'profile_id': '1642948700333801473', 'avatar': 'https://pbs.twimg.com/profile_images/1642948700333801473/Dv5XlY9I_mini.jpg'}, 'date': 'Dec 11, 2021 · 1:14 PM UTC', 'pictures': [], 'videos': [], 'gifs': []}, 'stats': {'comments': 0, 'retweets': 0, 'quotes': 0, 'likes': 0}, 'pictures': [], 'videos': [], 'gifs': []}, {'link': 'https://twitter.com/AdisiaMziih/status/1457618423144386561#m', 'text': '#deletebolt  I think drivers who are using bolt should just switch it off and delete it the prices are wanting how can a trip from ruiru to rongai massai lounge cost 740 ksh honestly', 'user': {'name': 'simple simon', 'username': '@AdisiaMziih', 'profile_id': '1815304448329076736', 'avatar': 'https://pbs.twimg.com/profile_images/1815304448329076736/3qX8dg02_bigger.jpg'}, 'date': 'Nov 8, 2021 · 7:58 AM UTC', 'is-retweet': False, 'is-pinned': False, 'external-link': '', 'replying-to': [], 'quoted-post': {}, 'stats': {'comments': 0, 'retweets': 0, 'quotes': 0, 'likes': 0}, 'pictures': [], 'videos': [], 'gifs': []}, {'link': 'https://twitter.com/charlesthecab/status/1455218268982104071#m', 'text': '#deleteTfL #deleteuber #deletebolt', 'user': {'name': '#LondonTaxi #UTAG', 'username': '@charlesthecab', 'profile_id': '1507979053667598341', 'avatar': 'https://pbs.twimg.com/profile_images/1507979053667598341/2vRROd44_bigger.jpg'}, 'date': 'Nov 1, 2021 · 5:00 PM UTC', 'is-retweet': False, 'is-pinned': False, 'external-link': '', 'replying-to': [], 'quoted-post': {'link': 'https://twitter.com/givati123/status/1455072327356588032#m', 'text': 'Last night I took a couple in their 70s from Vaux Br Rd to Kensal Rise. They were quoted £47 by Bolt with a 30 min wait for a car. It went  £28. Guess the tip.', 'user': {'name': 'givati', 'username': '@givati123', 'profile_id': '1288199768607526912', 'avatar': 'https://pbs.twimg.com/profile_images/1288199768607526912/BGYaroiK_mini.jpg'}, 'date': 'Nov 1, 2021 · 7:20 AM UTC', 'pictures': [], 'videos': [], 'gifs': []}, 'stats': {'comments': 0, 'retweets': 0, 'quotes': 0, 'likes': 0}, 'pictures': [], 'videos': [], 'gifs': []}, {'link': 'https://twitter.com/Dennis_waihenya/status/1454292605542543360#m', 'text': '#Deletebolt. Bolt taxi app is not kenyan. They take advantage of already depressed kenyan drivers by charging riders low. Drivers sink in depression and stress. That pressure is passed on to clients. Help me make this trend.', 'user': {'name': 'Dennis mathenge', 'username': '@Dennis_waihenya', 'profile_id': '1438779226719719425', 'avatar': 'https://pbs.twimg.com/profile_images/1438779226719719425/fHe1JN_q_bigger.jpg'}, 'date': 'Oct 30, 2021 · 3:42 AM UTC', 'is-retweet': False, 'is-pinned': False, 'external-link': '', 'replying-to': [], 'quoted-post': {}, 'stats': {'comments': 1, 'retweets': 4, 'quotes': 0, 'likes': 5}, 'pictures': [], 'videos': [], 'gifs': []}, {'link': 'https://twitter.com/ChanuaBoyChild/status/1450147449172111366#m', 'text': 'When this happened you went quiete no voice Mr @IG_NPS today you are very loud asking the victims to record a police statement. What is the difference sir...#Retweet #DeleteBolt @NPSC_KE @Boltapp_ke #JanetMbugua #OleSereni #Ndichus', 'user': {'name': 'ChanuaOurSons/ChanuaBoyChild', 'username': '@ChanuaBoyChild', 'profile_id': '930733264934973440', 'avatar': 'https://pbs.twimg.com/profile_images/930733264934973440/zQUW6mp1_bigger.jpg'}, 'date': 'Oct 18, 2021 · 5:11 PM UTC', 'is-retweet': False, 'is-pinned': False, 'external-link': '', 'replying-to': [], 'quoted-post': {}, 'stats': {'comments': 0, 'retweets': 0, 'quotes': 0, 'likes': 0}, 'pictures': ['https://pbs.twimg.com/media/FB_1azyXsAQFmxv.jpg'], 'videos': [], 'gifs': []}, {'link': 'https://twitter.com/akilahmed_/status/1446415352146038785#m', 'text': 'BOYCOTT THE WHOLE ESTONIAN COMPANY PLEASE.   Their existence is trouble in of itself.   #DELETEBOLT', 'user': {'name': 'STARBOY', 'username': '@akilahmed_', 'profile_id': '1839252343373574144', 'avatar': 'https://pbs.twimg.com/profile_images/1839252343373574144/tJAuwX7y_bigger.jpg'}, 'date': 'Oct 8, 2021 · 10:01 AM UTC', 'is-retweet': False, 'is-pinned': False, 'external-link': '', 'replying-to': [], 'quoted-post': {'link': '', 'text': '', 'user': {}, 'date': '', 'pictures': [], 'videos': [], 'gifs': []}, 'stats': {'comments': 0, 'retweets': 0, 'quotes': 0, 'likes': 0}, 'pictures': [], 'videos': [], 'gifs': []}, {'link': 'https://twitter.com/Watsiaya/status/1444357041632468995#m', 'text': \"After Chelsea game now it's time to #DeleteBolt #UnistallBolt #ReviewAt1\", 'user': {'name': 'Watsiaya', 'username': '@Watsiaya', 'profile_id': '1491434988763504644', 'avatar': 'https://pbs.twimg.com/profile_images/1491434988763504644/9AY9nFgR_bigger.jpg'}, 'date': 'Oct 2, 2021 · 5:42 PM UTC', 'is-retweet': False, 'is-pinned': False, 'external-link': '', 'replying-to': [], 'quoted-post': {'link': 'https://twitter.com/ItsMary_Gitau/status/1444353933128908804#m', 'text': 'This was @Kilemi_Andrine experience today. @Boltapp_ke  Mumezidi sasa!#AvoidBolt', 'user': {'name': 'Wambui Gitau 🇰🇪', 'username': '@ItsMary_Gitau', 'profile_id': '1703303385770852352', 'avatar': 'https://pbs.twimg.com/profile_images/1703303385770852352/IW8Nln4C_mini.jpg'}, 'date': 'Oct 2, 2021 · 5:29 PM UTC', 'pictures': ['https://pbs.twimg.com/media/FAtgPwMXsAY3b6_.jpg'], 'videos': [], 'gifs': []}, 'stats': {'comments': 0, 'retweets': 1, 'quotes': 0, 'likes': 1}, 'pictures': [], 'videos': [], 'gifs': []}, {'link': 'https://twitter.com/gatwimurithi/status/1440915107123499013#m', 'text': 'Listennnn!!!   #deletebolt', 'user': {'name': '#RutoMustGo', 'username': '@gatwimurithi', 'profile_id': '1805199882476519424', 'avatar': 'https://pbs.twimg.com/profile_images/1805199882476519424/-m4yiTJ3_bigger.jpg'}, 'date': 'Sep 23, 2021 · 5:45 AM UTC', 'is-retweet': False, 'is-pinned': False, 'external-link': '', 'replying-to': [], 'quoted-post': {'link': '', 'text': '', 'user': {}, 'date': '', 'pictures': [], 'videos': [], 'gifs': []}, 'stats': {'comments': 0, 'retweets': 0, 'quotes': 0, 'likes': 0}, 'pictures': [], 'videos': [], 'gifs': []}, {'link': 'https://twitter.com/KangetheWakanya/status/1440558058946502668#m', 'text': 'Injustice anywhere is a threat to justice everywhere #deletebolt #DeleteBoltApp', 'user': {'name': 'Paul', 'username': '@KangetheWakanya', 'profile_id': '1413731355536629760', 'avatar': 'https://pbs.twimg.com/profile_images/1413731355536629760/e5G0XPSf_bigger.jpg'}, 'date': 'Sep 22, 2021 · 6:06 AM UTC', 'is-retweet': False, 'is-pinned': False, 'external-link': '', 'replying-to': ['@abbierita'], 'quoted-post': {}, 'stats': {'comments': 0, 'retweets': 0, 'quotes': 0, 'likes': 0}, 'pictures': [], 'videos': [], 'gifs': []}, {'link': 'https://twitter.com/Vitalis_Ngoka/status/1440404502826274819#m', 'text': 'As patriots we did our part last weekend by informing the public about Bolt under the # DeleteBolt. The rest is up to you.', 'user': {'name': 'Vitalis Ngoka👊🏼 🇰🇪', 'username': '@Vitalis_Ngoka', 'profile_id': '1897260983585796097', 'avatar': 'https://pbs.twimg.com/profile_images/1897260983585796097/4spF38l7_bigger.jpg'}, 'date': 'Sep 21, 2021 · 7:56 PM UTC', 'is-retweet': False, 'is-pinned': False, 'external-link': '', 'replying-to': ['@abbierita'], 'quoted-post': {}, 'stats': {'comments': 2, 'retweets': 2, 'quotes': 0, 'likes': 9}, 'pictures': [], 'videos': [], 'gifs': []}, {'link': 'https://twitter.com/ummulkheir93/status/1440398528182775810#m', 'text': 'When we say @Boltapp_ke is a danger to the lives of Kenyans especially women, people think we are just making noise for nothing.#DeleteBoltApp #deletebolt #feministconversationskenya', 'user': {'name': 'Ummulkheir 🌺⚒️🌺🐱', 'username': '@ummulkheir93', 'profile_id': '1600203438746370064', 'avatar': 'https://pbs.twimg.com/profile_images/1600203438746370064/gKH_CETp_bigger.jpg'}, 'date': 'Sep 21, 2021 · 7:32 PM UTC', 'is-retweet': False, 'is-pinned': False, 'external-link': '', 'replying-to': [], 'quoted-post': {'link': 'https://twitter.com/abbierita/status/1440299370017034245#m', 'text': \"I didn't realize how serious this thing is.  Today I was threatened by a Bolt driver.  He said he'd stab us.  He forgot to start the trip on the app.  When we reached our destination he guessed the amount.  We said we'd pay him what was shown as an estimate from the beginning.\", 'user': {'name': 'Mkamburi', 'username': '@abbierita', 'profile_id': '1591491696440778762', 'avatar': 'https://pbs.twimg.com/profile_images/1591491696440778762/K8BSLz-n_mini.jpg'}, 'date': 'Sep 21, 2021 · 12:58 PM UTC', 'pictures': [], 'videos': [], 'gifs': []}, 'stats': {'comments': 0, 'retweets': 0, 'quotes': 0, 'likes': 2}, 'pictures': [], 'videos': [], 'gifs': []}, {'link': 'https://twitter.com/mwashamsa/status/1440379454895759368#m', 'text': 'I am so sorry for what you went through. May more women come out with their horror stories. Something needs to change.  #DeleteBolt #FeministConversationsKe', 'user': {'name': 'Mwanaidi A.Ramadhan', 'username': '@mwashamsa', 'profile_id': '1573990799968198656', 'avatar': 'https://pbs.twimg.com/profile_images/1573990799968198656/JC2JnZRa_bigger.jpg'}, 'date': 'Sep 21, 2021 · 6:16 PM UTC', 'is-retweet': False, 'is-pinned': False, 'external-link': '', 'replying-to': ['@abbierita', '@TTibello_'], 'quoted-post': {}, 'stats': {'comments': 1, 'retweets': 0, 'quotes': 0, 'likes': 4}, 'pictures': [], 'videos': [], 'gifs': []}, {'link': 'https://twitter.com/realcoolworld_/status/1440367190608257033#m', 'text': '#deletebolt @Boltgh sankofa y3nkyi make we go use Uber so , bolt regulators lately just be so heartless💔💔💔', 'user': {'name': 'Chukwu-eze🇬🇭🇳🇬', 'username': '@realcoolworld_', 'profile_id': '1850910301773770752', 'avatar': 'https://pbs.twimg.com/profile_images/1850910301773770752/JxbGiC8V_bigger.jpg'}, 'date': 'Sep 21, 2021 · 5:27 PM UTC', 'is-retweet': False, 'is-pinned': False, 'external-link': '', 'replying-to': [], 'quoted-post': {}, 'stats': {'comments': 0, 'retweets': 0, 'quotes': 0, 'likes': 0}, 'pictures': [], 'videos': [], 'gifs': []}, {'link': 'https://twitter.com/Princevanny522/status/1439723501401911298#m', 'text': 'I installed it and uninstalled it twice just to leave this comment #deletebolt', 'user': {'name': 'Princevanny52', 'username': '@Princevanny522', 'profile_id': '1364005700242862083', 'avatar': 'https://pbs.twimg.com/profile_images/1364005700242862083/AdHZM1qS_bigger.jpg'}, 'date': 'Sep 19, 2021 · 10:50 PM UTC', 'is-retweet': False, 'is-pinned': False, 'external-link': '', 'replying-to': ['@_fels1'], 'quoted-post': {}, 'stats': {'comments': 0, 'retweets': 0, 'quotes': 0, 'likes': 0}, 'pictures': ['https://pbs.twimg.com/media/E_rs4w5WEAINYSx.jpg'], 'videos': [], 'gifs': []}, {'link': 'https://twitter.com/Edwardgagah/status/1439672075615145994#m', 'text': '😂😂🤮 just continue using cheap thing at the end you regret #deletebolt @Boltapp_ke until they review the prices', 'user': {'name': 'Eddie g', 'username': '@Edwardgagah', 'profile_id': '1903161753636405248', 'avatar': 'https://pbs.twimg.com/profile_images/1903161753636405248/oFS18EC7_bigger.jpg'}, 'date': 'Sep 19, 2021 · 7:25 PM UTC', 'is-retweet': False, 'is-pinned': False, 'external-link': '', 'replying-to': ['@JumaWilly', '@Lazooj'], 'quoted-post': {}, 'stats': {'comments': 0, 'retweets': 0, 'quotes': 0, 'likes': 0}, 'pictures': [], 'videos': [], 'gifs': []}, {'link': 'https://twitter.com/tituskimanthi/status/1439643513222832132#m', 'text': '#deletebolt', 'user': {'name': 'Tito Kimanthi', 'username': '@tituskimanthi', 'profile_id': '1228286503601786882', 'avatar': 'https://pbs.twimg.com/profile_images/1228286503601786882/diDHpxHX_bigger.jpg'}, 'date': 'Sep 19, 2021 · 5:32 PM UTC', 'is-retweet': False, 'is-pinned': False, 'external-link': '', 'replying-to': [], 'quoted-post': {'link': 'https://twitter.com/jumaf3/status/1439557535133020163#m', 'text': 'Whoever handles @Boltapp_ke lost a chance when that driver\\'s car was stoned. They should have issued a statement \"condemning the incident\" without taking sides & promise to \"look into the issue.\" They chose to sleep. Now they are staggering with facts as #DeleteBoltApp rages on.', 'user': {'name': 'Juma G 🇰🇪', 'username': '@jumaf3', 'profile_id': '1851279407970680832', 'avatar': 'https://pbs.twimg.com/profile_images/1851279407970680832/RLzhK4_p_mini.jpg'}, 'date': 'Sep 19, 2021 · 11:50 AM UTC', 'pictures': [], 'videos': [], 'gifs': []}, 'stats': {'comments': 0, 'retweets': 0, 'quotes': 0, 'likes': 0}, 'pictures': [], 'videos': [], 'gifs': []}, {'link': 'https://twitter.com/OnlinePageShop/status/1439619125395984385#m', 'text': 'Wash wash done better. Walevi edition lol. Ronaldo #deletebolt #UsikuSacco youtube.com/channel/UCQrGLG-…', 'user': {'name': 'ChitChat network', 'username': '@OnlinePageShop', 'profile_id': '1340367990362136581', 'avatar': 'https://pbs.twimg.com/profile_images/1340367990362136581/SFmddyY2_bigger.jpg'}, 'date': 'Sep 19, 2021 · 3:55 PM UTC', 'is-retweet': False, 'is-pinned': False, 'external-link': '', 'replying-to': [], 'quoted-post': {}, 'stats': {'comments': 0, 'retweets': 0, 'quotes': 0, 'likes': 0}, 'pictures': [], 'videos': [], 'gifs': []}, {'link': 'https://twitter.com/Thepiggeryburg1/status/1439617305827237893#m', 'text': 'How to end your weekend with a good vibe of burger 🍔...... #TOTCHE #OleOut The 5th #UsikuSacco  Nick Mwendwa #deletebolt Kenya Police Dave Penalty Chelsea Mendy Ronaldo West Ham De Gea Manchester united', 'user': {'name': 'Thepiggeryburger', 'username': '@Thepiggeryburg1', 'profile_id': '1407639390894051331', 'avatar': 'https://pbs.twimg.com/profile_images/1407639390894051331/t_dqaP2i_bigger.jpg'}, 'date': 'Sep 19, 2021 · 3:48 PM UTC', 'is-retweet': False, 'is-pinned': False, 'external-link': '', 'replying-to': [], 'quoted-post': {}, 'stats': {'comments': 0, 'retweets': 1, 'quotes': 0, 'likes': 4}, 'pictures': [], 'videos': ['https://video.twimg.com/ext_tw_video/1439616861126201347/pu/vid/720x1280/scrgVb-u6xxJR26I.mp4?tag=12'], 'gifs': []}, {'link': 'https://twitter.com/MukumuFranco/status/1439612539499958278#m', 'text': 'Health care or sick care? #NikujaribuTu #deletebolt 5th  Follow @Cysmedhub for more.', 'user': {'name': 'Mukumu', 'username': '@MukumuFranco', 'profile_id': '980520738787643392', 'avatar': 'https://pbs.twimg.com/profile_images/980520738787643392/xep3m9kF_bigger.jpg'}, 'date': 'Sep 19, 2021 · 3:29 PM UTC', 'is-retweet': False, 'is-pinned': False, 'external-link': '', 'replying-to': [], 'quoted-post': {'link': '', 'text': '', 'user': {}, 'date': '', 'pictures': [], 'videos': [], 'gifs': []}, 'stats': {'comments': 0, 'retweets': 0, 'quotes': 0, 'likes': 0}, 'pictures': [], 'videos': [], 'gifs': []}, {'link': 'https://twitter.com/d_households/status/1439609805572816897#m', 'text': 'Follow us for random gifts to our Followers daily. We will send the gifts to your door steps. Follow us know. #deletebolt #mercy #MasculinitySaturday', 'user': {'name': 'Demik Households', 'username': '@d_households', 'profile_id': '1430585590916034562', 'avatar': 'https://pbs.twimg.com/profile_images/1430585590916034562/ZCa62Y0__bigger.jpg'}, 'date': 'Sep 19, 2021 · 3:18 PM UTC', 'is-retweet': False, 'is-pinned': False, 'external-link': '', 'replying-to': [], 'quoted-post': {}, 'stats': {'comments': 0, 'retweets': 0, 'quotes': 0, 'likes': 0}, 'pictures': [], 'videos': [], 'gifs': []}], 'threads': []}]\n"
     ]
    }
   ],
   "source": [
    "# Load the JSON file\n",
    "with open(\"DeleteBolt_Tweets.json\", \"r\") as file:\n",
    "    data = json.load(file)\n",
    "\n",
    "# Check the structure\n",
    "print(type(data))  # Should be list or dict\n",
    "print(data[:2])    # Print the first two elements"
   ]
  },
  {
   "cell_type": "code",
   "execution_count": 8,
   "id": "928f72ed-d3f6-403b-a1aa-013d2a6e2eb2",
   "metadata": {},
   "outputs": [
    {
     "name": "stdout",
     "output_type": "stream",
     "text": [
      "                                            Tweet Link  \\\n",
      "0    https://twitter.com/gapae254/status/1716527034...   \n",
      "1    https://twitter.com/musyimijoseph_/status/1683...   \n",
      "2    https://twitter.com/Felinsky1/status/166920605...   \n",
      "3    https://twitter.com/GovOparanyaFan/status/1668...   \n",
      "4    https://twitter.com/Kevoh_Spice/status/1668888...   \n",
      "..                                                 ...   \n",
      "126  https://twitter.com/tituskimanthi/status/14396...   \n",
      "127  https://twitter.com/OnlinePageShop/status/1439...   \n",
      "128  https://twitter.com/Thepiggeryburg1/status/143...   \n",
      "129  https://twitter.com/MukumuFranco/status/143961...   \n",
      "130  https://twitter.com/d_households/status/143960...   \n",
      "\n",
      "                                            Tweet Text          Username  \\\n",
      "0           You people still use Bolt?  #DeleteBoltApp         @gapae254   \n",
      "1                     Delete Bolt App ! #deleteboltapp   @musyimijoseph_   \n",
      "2                     Me: Amerix said.  #DeleteBoltApp        @Felinsky1   \n",
      "3    He said tiktok is for pussified men, I deleted...   @GovOparanyaFan   \n",
      "4                                #DeleteBoltApp, Done.      @Kevoh_Spice   \n",
      "..                                                 ...               ...   \n",
      "126                                        #deletebolt    @tituskimanthi   \n",
      "127  Wash wash done better. Walevi edition lol. Ron...   @OnlinePageShop   \n",
      "128  How to end your weekend with a good vibe of bu...  @Thepiggeryburg1   \n",
      "129  Health care or sick care? #NikujaribuTu #delet...     @MukumuFranco   \n",
      "130  Follow us for random gifts to our Followers da...     @d_households   \n",
      "\n",
      "                            Date  Retweets  Likes  Comments  \n",
      "0     Oct 23, 2023 · 6:48 PM UTC         0      0         0  \n",
      "1    Jul 25, 2023 · 10:19 AM UTC         0      7         3  \n",
      "2     Jun 15, 2023 · 4:51 AM UTC         0      0         0  \n",
      "3     Jun 14, 2023 · 3:01 PM UTC         0      2         0  \n",
      "4     Jun 14, 2023 · 7:48 AM UTC         0      1         0  \n",
      "..                           ...       ...    ...       ...  \n",
      "126   Sep 19, 2021 · 5:32 PM UTC         0      0         0  \n",
      "127   Sep 19, 2021 · 3:55 PM UTC         0      0         0  \n",
      "128   Sep 19, 2021 · 3:48 PM UTC         1      4         0  \n",
      "129   Sep 19, 2021 · 3:29 PM UTC         0      0         0  \n",
      "130   Sep 19, 2021 · 3:18 PM UTC         0      0         0  \n",
      "\n",
      "[131 rows x 7 columns]\n"
     ]
    }
   ],
   "source": [
    "# Load the JSON file\n",
    "with open(\"DeleteBolt_Tweets.json\", \"r\") as file:\n",
    "    data = json.load(file)\n",
    "\n",
    "# Since `data` is a list, extract tweets from each dictionary\n",
    "tweets_list = []\n",
    "for entry in data:\n",
    "    tweets_list.extend(entry.get(\"tweets\", []))  # Extract tweets from each entry\n",
    "\n",
    "# Normalize the nested structure into a DataFrame\n",
    "df = pd.json_normalize(tweets_list)\n",
    "\n",
    "# Select only the required columns\n",
    "data = df[[\"link\", \"text\", \"user.username\", \"date\", \"stats.retweets\", \"stats.likes\", \"stats.comments\"]]\n",
    "\n",
    "# Rename columns for better readability\n",
    "data.columns = [\"Tweet Link\", \"Tweet Text\", \"Username\", \"Date\", \"Retweets\", \"Likes\", \"Comments\"]\n",
    "\n",
    "# Display the first few rows\n",
    "print(data)"
   ]
  },
  {
   "cell_type": "code",
   "execution_count": 9,
   "id": "db00b449-4819-43f5-b3fe-f86460d0adf0",
   "metadata": {},
   "outputs": [
    {
     "name": "stdout",
     "output_type": "stream",
     "text": [
      "<class 'pandas.core.frame.DataFrame'>\n",
      "RangeIndex: 131 entries, 0 to 130\n",
      "Data columns (total 7 columns):\n",
      " #   Column      Non-Null Count  Dtype \n",
      "---  ------      --------------  ----- \n",
      " 0   Tweet Link  131 non-null    object\n",
      " 1   Tweet Text  131 non-null    object\n",
      " 2   Username    131 non-null    object\n",
      " 3   Date        131 non-null    object\n",
      " 4   Retweets    131 non-null    int64 \n",
      " 5   Likes       131 non-null    int64 \n",
      " 6   Comments    131 non-null    int64 \n",
      "dtypes: int64(3), object(4)\n",
      "memory usage: 7.3+ KB\n"
     ]
    }
   ],
   "source": [
    "data.info()"
   ]
  },
  {
   "cell_type": "code",
   "execution_count": 10,
   "id": "4dd25460-a872-4b93-9b3f-92b60322b6a6",
   "metadata": {},
   "outputs": [
    {
     "data": {
      "text/plain": [
       "(131, 7)"
      ]
     },
     "execution_count": 10,
     "metadata": {},
     "output_type": "execute_result"
    }
   ],
   "source": [
    "data.shape"
   ]
  },
  {
   "cell_type": "code",
   "execution_count": 11,
   "id": "f2296dcf-4804-46af-b6d1-801b316ea56d",
   "metadata": {},
   "outputs": [
    {
     "data": {
      "text/plain": [
       "Index(['Tweet Link', 'Tweet Text', 'Username', 'Date', 'Retweets', 'Likes',\n",
       "       'Comments'],\n",
       "      dtype='object')"
      ]
     },
     "execution_count": 11,
     "metadata": {},
     "output_type": "execute_result"
    }
   ],
   "source": [
    "data.columns"
   ]
  },
  {
   "cell_type": "code",
   "execution_count": 12,
   "id": "37afd545-804d-4980-93d5-f53e30aaa001",
   "metadata": {},
   "outputs": [
    {
     "name": "stdout",
     "output_type": "stream",
     "text": [
      "0                                                                                      You people still use Bolt?  #DeleteBoltApp\n",
      "1                                                                                                Delete Bolt App ! #deleteboltapp\n",
      "2                                                                                                Me: Amerix said.  #DeleteBoltApp\n",
      "3                     He said tiktok is for pussified men, I deleted the app.. He said I deserve better; done with #DeleteBoltApp\n",
      "4                                                                                                           #DeleteBoltApp, Done.\n",
      "5                     @Boltapp_ke #deleteboltapp I totally agree the worst service provider app no office no response or feedback\n",
      "6    Bolt ride is a disaster in waiting trip, you choose to ride cheaply, you get cheap, crappy, unruly service.  #DeleteBoltApp.\n",
      "7                                                                    This thread shows the neglect in the comments #DeleteBoltApp\n",
      "8                                                                                              They won't help you #deleteboltapp\n",
      "9                              You are not sad and not ready to help.Everytime people complain but you do nothing. #deleteboltapp\n",
      "Name: Tweet Text, dtype: object\n"
     ]
    }
   ],
   "source": [
    "# Show full text\n",
    "\n",
    "pd.set_option('display.max_colwidth', None)  \n",
    "print(data[\"Tweet Text\"].head(10))"
   ]
  },
  {
   "cell_type": "code",
   "execution_count": 13,
   "id": "3fd72939-1a77-4162-9b32-abc9e527b1f2",
   "metadata": {},
   "outputs": [
    {
     "data": {
      "text/html": [
       "<div>\n",
       "<style scoped>\n",
       "    .dataframe tbody tr th:only-of-type {\n",
       "        vertical-align: middle;\n",
       "    }\n",
       "\n",
       "    .dataframe tbody tr th {\n",
       "        vertical-align: top;\n",
       "    }\n",
       "\n",
       "    .dataframe thead th {\n",
       "        text-align: right;\n",
       "    }\n",
       "</style>\n",
       "<table border=\"1\" class=\"dataframe\">\n",
       "  <thead>\n",
       "    <tr style=\"text-align: right;\">\n",
       "      <th></th>\n",
       "      <th>Tweet Text</th>\n",
       "      <th>Username</th>\n",
       "      <th>Date</th>\n",
       "    </tr>\n",
       "  </thead>\n",
       "  <tbody>\n",
       "    <tr>\n",
       "      <th>0</th>\n",
       "      <td>You people still use Bolt?  #DeleteBoltApp</td>\n",
       "      <td>@gapae254</td>\n",
       "      <td>Oct 23, 2023 · 6:48 PM UTC</td>\n",
       "    </tr>\n",
       "    <tr>\n",
       "      <th>1</th>\n",
       "      <td>Delete Bolt App ! #deleteboltapp</td>\n",
       "      <td>@musyimijoseph_</td>\n",
       "      <td>Jul 25, 2023 · 10:19 AM UTC</td>\n",
       "    </tr>\n",
       "    <tr>\n",
       "      <th>2</th>\n",
       "      <td>Me: Amerix said.  #DeleteBoltApp</td>\n",
       "      <td>@Felinsky1</td>\n",
       "      <td>Jun 15, 2023 · 4:51 AM UTC</td>\n",
       "    </tr>\n",
       "    <tr>\n",
       "      <th>3</th>\n",
       "      <td>He said tiktok is for pussified men, I deleted the app.. He said I deserve better; done with #DeleteBoltApp</td>\n",
       "      <td>@GovOparanyaFan</td>\n",
       "      <td>Jun 14, 2023 · 3:01 PM UTC</td>\n",
       "    </tr>\n",
       "    <tr>\n",
       "      <th>4</th>\n",
       "      <td>#DeleteBoltApp, Done.</td>\n",
       "      <td>@Kevoh_Spice</td>\n",
       "      <td>Jun 14, 2023 · 7:48 AM UTC</td>\n",
       "    </tr>\n",
       "    <tr>\n",
       "      <th>...</th>\n",
       "      <td>...</td>\n",
       "      <td>...</td>\n",
       "      <td>...</td>\n",
       "    </tr>\n",
       "    <tr>\n",
       "      <th>126</th>\n",
       "      <td>#deletebolt</td>\n",
       "      <td>@tituskimanthi</td>\n",
       "      <td>Sep 19, 2021 · 5:32 PM UTC</td>\n",
       "    </tr>\n",
       "    <tr>\n",
       "      <th>127</th>\n",
       "      <td>Wash wash done better. Walevi edition lol. Ronaldo #deletebolt #UsikuSacco youtube.com/channel/UCQrGLG-…</td>\n",
       "      <td>@OnlinePageShop</td>\n",
       "      <td>Sep 19, 2021 · 3:55 PM UTC</td>\n",
       "    </tr>\n",
       "    <tr>\n",
       "      <th>128</th>\n",
       "      <td>How to end your weekend with a good vibe of burger 🍔...... #TOTCHE #OleOut The 5th #UsikuSacco  Nick Mwendwa #deletebolt Kenya Police Dave Penalty Chelsea Mendy Ronaldo West Ham De Gea Manchester united</td>\n",
       "      <td>@Thepiggeryburg1</td>\n",
       "      <td>Sep 19, 2021 · 3:48 PM UTC</td>\n",
       "    </tr>\n",
       "    <tr>\n",
       "      <th>129</th>\n",
       "      <td>Health care or sick care? #NikujaribuTu #deletebolt 5th  Follow @Cysmedhub for more.</td>\n",
       "      <td>@MukumuFranco</td>\n",
       "      <td>Sep 19, 2021 · 3:29 PM UTC</td>\n",
       "    </tr>\n",
       "    <tr>\n",
       "      <th>130</th>\n",
       "      <td>Follow us for random gifts to our Followers daily. We will send the gifts to your door steps. Follow us know. #deletebolt #mercy #MasculinitySaturday</td>\n",
       "      <td>@d_households</td>\n",
       "      <td>Sep 19, 2021 · 3:18 PM UTC</td>\n",
       "    </tr>\n",
       "  </tbody>\n",
       "</table>\n",
       "<p>131 rows × 3 columns</p>\n",
       "</div>"
      ],
      "text/plain": [
       "                                                                                                                                                                                                     Tweet Text  \\\n",
       "0                                                                                                                                                                    You people still use Bolt?  #DeleteBoltApp   \n",
       "1                                                                                                                                                                              Delete Bolt App ! #deleteboltapp   \n",
       "2                                                                                                                                                                              Me: Amerix said.  #DeleteBoltApp   \n",
       "3                                                                                                   He said tiktok is for pussified men, I deleted the app.. He said I deserve better; done with #DeleteBoltApp   \n",
       "4                                                                                                                                                                                         #DeleteBoltApp, Done.   \n",
       "..                                                                                                                                                                                                          ...   \n",
       "126                                                                                                                                                                                                 #deletebolt   \n",
       "127                                                                                                    Wash wash done better. Walevi edition lol. Ronaldo #deletebolt #UsikuSacco youtube.com/channel/UCQrGLG-…   \n",
       "128  How to end your weekend with a good vibe of burger 🍔...... #TOTCHE #OleOut The 5th #UsikuSacco  Nick Mwendwa #deletebolt Kenya Police Dave Penalty Chelsea Mendy Ronaldo West Ham De Gea Manchester united   \n",
       "129                                                                                                                        Health care or sick care? #NikujaribuTu #deletebolt 5th  Follow @Cysmedhub for more.   \n",
       "130                                                       Follow us for random gifts to our Followers daily. We will send the gifts to your door steps. Follow us know. #deletebolt #mercy #MasculinitySaturday   \n",
       "\n",
       "             Username                         Date  \n",
       "0           @gapae254   Oct 23, 2023 · 6:48 PM UTC  \n",
       "1     @musyimijoseph_  Jul 25, 2023 · 10:19 AM UTC  \n",
       "2          @Felinsky1   Jun 15, 2023 · 4:51 AM UTC  \n",
       "3     @GovOparanyaFan   Jun 14, 2023 · 3:01 PM UTC  \n",
       "4        @Kevoh_Spice   Jun 14, 2023 · 7:48 AM UTC  \n",
       "..                ...                          ...  \n",
       "126    @tituskimanthi   Sep 19, 2021 · 5:32 PM UTC  \n",
       "127   @OnlinePageShop   Sep 19, 2021 · 3:55 PM UTC  \n",
       "128  @Thepiggeryburg1   Sep 19, 2021 · 3:48 PM UTC  \n",
       "129     @MukumuFranco   Sep 19, 2021 · 3:29 PM UTC  \n",
       "130     @d_households   Sep 19, 2021 · 3:18 PM UTC  \n",
       "\n",
       "[131 rows x 3 columns]"
      ]
     },
     "execution_count": 13,
     "metadata": {},
     "output_type": "execute_result"
    }
   ],
   "source": [
    "data[[\"Tweet Text\", \"Username\", \"Date\"]]"
   ]
  },
  {
   "cell_type": "markdown",
   "id": "d3df99e7-db74-4335-b578-8135a7fefa2d",
   "metadata": {},
   "source": [
    "# 4. Data Cleaning"
   ]
  },
  {
   "cell_type": "markdown",
   "id": "809c4bb4-9de4-427e-a827-e50da5de8818",
   "metadata": {},
   "source": [
    "## 4.1 Duplicates"
   ]
  },
  {
   "cell_type": "code",
   "execution_count": 14,
   "id": "8381327c-71b0-4267-853d-45954e46435f",
   "metadata": {},
   "outputs": [
    {
     "data": {
      "text/plain": [
       "0"
      ]
     },
     "execution_count": 14,
     "metadata": {},
     "output_type": "execute_result"
    }
   ],
   "source": [
    "data.duplicated().sum()"
   ]
  },
  {
   "cell_type": "markdown",
   "id": "4dc2b508-b729-4120-9ed2-6515f66a3d08",
   "metadata": {},
   "source": [
    "## 4.2 Missing Values"
   ]
  },
  {
   "cell_type": "code",
   "execution_count": 15,
   "id": "2a64ac85-3f8e-418c-9bc5-dccd676cba5c",
   "metadata": {},
   "outputs": [
    {
     "data": {
      "text/plain": [
       "Tweet Link    0\n",
       "Tweet Text    0\n",
       "Username      0\n",
       "Date          0\n",
       "Retweets      0\n",
       "Likes         0\n",
       "Comments      0\n",
       "dtype: int64"
      ]
     },
     "execution_count": 15,
     "metadata": {},
     "output_type": "execute_result"
    }
   ],
   "source": [
    "data.isna().sum()"
   ]
  },
  {
   "cell_type": "markdown",
   "id": "5a247df5-70d0-4ebe-a1fc-7ac82cfc51c7",
   "metadata": {},
   "source": [
    "## 4.3 Placeholders"
   ]
  },
  {
   "cell_type": "code",
   "execution_count": 16,
   "id": "543cbcf6-1666-4cc0-8fdc-2f8f77c62b7b",
   "metadata": {},
   "outputs": [
    {
     "name": "stdout",
     "output_type": "stream",
     "text": [
      "Rows with placeholders:\n",
      "0                                                                                                                                                                      You people still use Bolt?  #DeleteBoltApp\n",
      "1                                                                                                                                                                                Delete Bolt App ! #deleteboltapp\n",
      "2                                                                                                                                                                                Me: Amerix said.  #DeleteBoltApp\n",
      "3                                                                                                     He said tiktok is for pussified men, I deleted the app.. He said I deserve better; done with #DeleteBoltApp\n",
      "4                                                                                                                                                                                           #DeleteBoltApp, Done.\n",
      "                                                                                                          ...                                                                                                    \n",
      "126                                                                                                                                                                                                   #deletebolt\n",
      "127                                                                                                      Wash wash done better. Walevi edition lol. Ronaldo #deletebolt #UsikuSacco youtube.com/channel/UCQrGLG-…\n",
      "128    How to end your weekend with a good vibe of burger 🍔...... #TOTCHE #OleOut The 5th #UsikuSacco  Nick Mwendwa #deletebolt Kenya Police Dave Penalty Chelsea Mendy Ronaldo West Ham De Gea Manchester united\n",
      "129                                                                                                                          Health care or sick care? #NikujaribuTu #deletebolt 5th  Follow @Cysmedhub for more.\n",
      "130                                                         Follow us for random gifts to our Followers daily. We will send the gifts to your door steps. Follow us know. #deletebolt #mercy #MasculinitySaturday\n",
      "Name: Tweet Text, Length: 131, dtype: object\n"
     ]
    }
   ],
   "source": [
    "# Define a pattern for placeholders\n",
    "placeholder_pattern = r\"[@#$%&,./?'-;!]\"\n",
    "\n",
    "# Identify rows containing placeholders\n",
    "placeholder_rows = data[data[\"Tweet Text\"].str.contains(placeholder_pattern, na=False)]\n",
    "\n",
    "# Print only the \"Tweet Text\" column\n",
    "print(f\"Rows with placeholders:\\n{placeholder_rows['Tweet Text']}\")"
   ]
  },
  {
   "cell_type": "code",
   "execution_count": 17,
   "id": "c0a51d2c-9818-419c-a90c-fe6220b064af",
   "metadata": {},
   "outputs": [
    {
     "name": "stdout",
     "output_type": "stream",
     "text": [
      "0                                                                                                                                                             You people still use Bolt  DeleteBoltApp\n",
      "1                                                                                                                                                                       Delete Bolt App  deleteboltapp\n",
      "2                                                                                                                                                                        Me Amerix said  DeleteBoltApp\n",
      "3                                                                                               He said tiktok is for pussified men I deleted the app He said I deserve better done with DeleteBoltApp\n",
      "4                                                                                                                                                                                   DeleteBoltApp Done\n",
      "                                                                                                    ...                                                                                               \n",
      "126                                                                                                                                                                                         deletebolt\n",
      "127                                                                                                   Wash wash done better Walevi edition lol Ronaldo deletebolt UsikuSacco youtubecomchannelUCQrGLG…\n",
      "128    How to end your weekend with a good vibe of burger 🍔 TOTCHE OleOut The th UsikuSacco  Nick Mwendwa deletebolt Kenya Police Dave Penalty Chelsea Mendy Ronaldo West Ham De Gea Manchester united\n",
      "129                                                                                                                     Health care or sick care NikujaribuTu deletebolt th  Follow Cysmedhub for more\n",
      "130                                                    Follow us for random gifts to our Followers daily We will send the gifts to your door steps Follow us know deletebolt mercy MasculinitySaturday\n",
      "Name: Tweet Text, Length: 131, dtype: object\n"
     ]
    }
   ],
   "source": [
    "# Remove placeholders from the dataframe\n",
    "data['Tweet Text'] = data['Tweet Text'].str.replace(placeholder_pattern, '', regex=True)\n",
    "\n",
    "# Display the cleaned text column\n",
    "print(data['Tweet Text'])"
   ]
  },
  {
   "cell_type": "markdown",
   "id": "f8f8b5bf-0b4c-4d7a-82a4-64b3ce53be86",
   "metadata": {},
   "source": [
    "## 4.4 White Space"
   ]
  },
  {
   "cell_type": "code",
   "execution_count": 18,
   "id": "e95881fa-6b76-4dde-b2c2-b0263d70ecf0",
   "metadata": {},
   "outputs": [
    {
     "name": "stdout",
     "output_type": "stream",
     "text": [
      "Columns with whitespace: []\n"
     ]
    }
   ],
   "source": [
    "# Checking for white space\n",
    "df_whitespace = [col for col in data.columns if col.strip() != col]\n",
    "print(\"Columns with whitespace:\", df_whitespace)"
   ]
  },
  {
   "cell_type": "markdown",
   "id": "30d5ebe6-359b-4440-8ded-05433899e305",
   "metadata": {},
   "source": [
    "## 4.5 Emojis"
   ]
  },
  {
   "cell_type": "code",
   "execution_count": 19,
   "id": "be256666-f24b-42f7-b4b8-f2cca9f683a5",
   "metadata": {},
   "outputs": [
    {
     "name": "stdout",
     "output_type": "stream",
     "text": [
      "0                                                                                                                                                            You people still use Bolt  DeleteBoltApp\n",
      "1                                                                                                                                                                      Delete Bolt App  deleteboltapp\n",
      "2                                                                                                                                                                       Me Amerix said  DeleteBoltApp\n",
      "3                                                                                              He said tiktok is for pussified men I deleted the app He said I deserve better done with DeleteBoltApp\n",
      "4                                                                                                                                                                                  DeleteBoltApp Done\n",
      "                                                                                                    ...                                                                                              \n",
      "126                                                                                                                                                                                        deletebolt\n",
      "127                                                                                                  Wash wash done better Walevi edition lol Ronaldo deletebolt UsikuSacco youtubecomchannelUCQrGLG…\n",
      "128    How to end your weekend with a good vibe of burger  TOTCHE OleOut The th UsikuSacco  Nick Mwendwa deletebolt Kenya Police Dave Penalty Chelsea Mendy Ronaldo West Ham De Gea Manchester united\n",
      "129                                                                                                                    Health care or sick care NikujaribuTu deletebolt th  Follow Cysmedhub for more\n",
      "130                                                   Follow us for random gifts to our Followers daily We will send the gifts to your door steps Follow us know deletebolt mercy MasculinitySaturday\n",
      "Name: Tweet Text, Length: 131, dtype: object\n"
     ]
    }
   ],
   "source": [
    "# Define emoji pattern\n",
    "emoji_pattern = re.compile(\"[\"\n",
    "    \"\\U0001F600-\\U0001F64F\"  \n",
    "    \"\\U0001F300-\\U0001F5FF\" \n",
    "    \"\\U0001F680-\\U0001F6FF\"\n",
    "    \"\\U0001F700-\\U0001F77F\"  \n",
    "    \"\\U0001F780-\\U0001F7FF\"  \n",
    "    \"\\U0001F800-\\U0001F8FF\"  \n",
    "    \"\\U0001F900-\\U0001F9FF\"  \n",
    "    \"\\U0001FA00-\\U0001FA6F\" \n",
    "    \"\\U0001FA70-\\U0001FAFF\"  \n",
    "    \"\\U00002702-\\U000027B0\" \n",
    "    \"\\U000024C2-\\U0001F251\"  \n",
    "    \"]+\", flags=re.UNICODE)\n",
    "\n",
    "# Function to remove emojis\n",
    "def remove_emojis(text):\n",
    "    return emoji_pattern.sub(r'', text)\n",
    "\n",
    "# Apply to the \"Tweet Text\" column\n",
    "data[\"Tweet Text\"] = data[\"Tweet Text\"].apply(remove_emojis)\n",
    "\n",
    "# Display the cleaned text column\n",
    "print(data['Tweet Text'])"
   ]
  },
  {
   "cell_type": "markdown",
   "id": "d2e34b65-8110-4365-9050-dce9a89368d5",
   "metadata": {},
   "source": [
    "## 4.6 Date"
   ]
  },
  {
   "cell_type": "code",
   "execution_count": 20,
   "id": "832f8673-36f0-4ce7-8ad1-a940325106fe",
   "metadata": {},
   "outputs": [
    {
     "name": "stdout",
     "output_type": "stream",
     "text": [
      "                 Date\n",
      "0 2023-10-23 18:48:00\n",
      "1 2023-07-25 10:19:00\n",
      "2 2023-06-15 04:51:00\n",
      "3 2023-06-14 15:01:00\n",
      "4 2023-06-14 07:48:00\n"
     ]
    }
   ],
   "source": [
    "# Convert \"Date\" column to datetime format\n",
    "data[\"Date\"] = pd.to_datetime(data[\"Date\"], format=\"%b %d, %Y · %I:%M %p UTC\")\n",
    "\n",
    "# Display the updated Date column\n",
    "print(data[[\"Date\"]].head())"
   ]
  },
  {
   "cell_type": "markdown",
   "id": "f5a60076-0024-4503-bcf9-affeea9f68b4",
   "metadata": {},
   "source": [
    "## 4.7 Stop Words"
   ]
  },
  {
   "cell_type": "code",
   "execution_count": 21,
   "id": "2d71945e-2ee6-4aee-8b31-36c08318cbc5",
   "metadata": {},
   "outputs": [
    {
     "name": "stderr",
     "output_type": "stream",
     "text": [
      "[nltk_data] Downloading package punkt to /home/muchiri/nltk_data...\n",
      "[nltk_data]   Package punkt is already up-to-date!\n",
      "[nltk_data] Downloading package stopwords to\n",
      "[nltk_data]     /home/muchiri/nltk_data...\n",
      "[nltk_data]   Package stopwords is already up-to-date!\n"
     ]
    },
    {
     "data": {
      "text/plain": [
       "True"
      ]
     },
     "execution_count": 21,
     "metadata": {},
     "output_type": "execute_result"
    }
   ],
   "source": [
    "# Download NLTK resources if not already downloaded\n",
    "nltk.download('punkt')\n",
    "nltk.download('stopwords')"
   ]
  },
  {
   "cell_type": "code",
   "execution_count": 22,
   "id": "cd8f2dae-9359-4a95-94b4-03b4c2365c49",
   "metadata": {},
   "outputs": [
    {
     "name": "stdout",
     "output_type": "stream",
     "text": [
      "0                                                                                                                                                         [people, still, use, bolt, deleteboltapp]\n",
      "1                                                                                                                                                                [delete, bolt, app, deleteboltapp]\n",
      "2                                                                                                                                                                     [amerix, said, deleteboltapp]\n",
      "3                                                                                                          [said, tiktok, pussified, men, deleted, app, said, deserve, better, done, deleteboltapp]\n",
      "4                                                                                                                                                                             [deleteboltapp, done]\n",
      "                                                                                                   ...                                                                                             \n",
      "126                                                                                                                                                                                    [deletebolt]\n",
      "127                                                                                    [wash, wash, done, better, walevi, edition, lol, ronaldo, deletebolt, usikusacco, youtubecomchannelucqrglg…]\n",
      "128    [end, weekend, good, vibe, burger, totche, oleout, th, usikusacco, nick, mwendwa, deletebolt, kenya, police, dave, penalty, chelsea, mendy, ronaldo, west, ham, de, gea, manchester, united]\n",
      "129                                                                                                                     [health, care, sick, care, nikujaributu, deletebolt, th, follow, cysmedhub]\n",
      "130                                                               [follow, us, random, gifts, followers, daily, send, gifts, door, steps, follow, us, know, deletebolt, mercy, masculinitysaturday]\n",
      "Name: Tweet Text, Length: 131, dtype: object\n"
     ]
    }
   ],
   "source": [
    "\"\"\"\n",
    "Words such as \"the, and, of, is etc in the data add little or no value to the data.\n",
    "\n",
    "Here, the data is tokenized to make it easier to remove the stop words\n",
    "\n",
    "A list comprehension will be used to omit any token not in stop_words variable below\n",
    "\"\"\"\n",
    "# Define stop words\n",
    "stop_words = set(stopwords.words(\"english\"))\n",
    "\n",
    "# Ensure that tweets are tokenized properly\n",
    "data[\"Tweet Text\"] = data[\"Tweet Text\"].apply(lambda x: word_tokenize(x) if isinstance(x, str) else x)\n",
    "\n",
    "# Convert to lowercase and remove stop words\n",
    "data[\"Tweet Text\"] = data[\"Tweet Text\"].apply(lambda tokens: [w.lower() for w in tokens if w.lower() not in stop_words])\n",
    "\n",
    "# Show the result\n",
    "print(data[\"Tweet Text\"])"
   ]
  },
  {
   "cell_type": "markdown",
   "id": "2d38bf91-9168-4875-a456-54cae933357a",
   "metadata": {},
   "source": [
    "## 4.8 Lemmatization"
   ]
  },
  {
   "cell_type": "code",
   "execution_count": 23,
   "id": "5cedbc13-c8e5-49f9-b88e-07672f044b9f",
   "metadata": {},
   "outputs": [
    {
     "data": {
      "text/plain": [
       "0                                                                                                                                                         [people, still, use, bolt, deleteboltapp]\n",
       "1                                                                                                                                                                [delete, bolt, app, deleteboltapp]\n",
       "2                                                                                                                                                                     [amerix, said, deleteboltapp]\n",
       "3                                                                                                          [said, tiktok, pussified, men, deleted, app, said, deserve, better, done, deleteboltapp]\n",
       "4                                                                                                                                                                             [deleteboltapp, done]\n",
       "                                                                                                   ...                                                                                             \n",
       "126                                                                                                                                                                                    [deletebolt]\n",
       "127                                                                                    [wash, wash, done, better, walevi, edition, lol, ronaldo, deletebolt, usikusacco, youtubecomchannelucqrglg…]\n",
       "128    [end, weekend, good, vibe, burger, totche, oleout, th, usikusacco, nick, mwendwa, deletebolt, kenya, police, dave, penalty, chelsea, mendy, ronaldo, west, ham, de, gea, manchester, united]\n",
       "129                                                                                                                     [health, care, sick, care, nikujaributu, deletebolt, th, follow, cysmedhub]\n",
       "130                                                                     [follow, u, random, gift, follower, daily, send, gift, door, step, follow, u, know, deletebolt, mercy, masculinitysaturday]\n",
       "Name: Tweet Text, Length: 131, dtype: object"
      ]
     },
     "execution_count": 23,
     "metadata": {},
     "output_type": "execute_result"
    }
   ],
   "source": [
    "\"\"\"\n",
    "It's better than stemming since it word forms to determine the base or dictionary form rather than chopping off the last part of a sentence\n",
    "whether it's grammatically correct or not like stemming does\n",
    "\"\"\"\n",
    "# instantiating lemmatizer\n",
    "lemmatizer = WordNetLemmatizer()\n",
    "\n",
    "# function to lemmatize tweet column words\n",
    "def lemmatize_text(tokens):\n",
    "    return [lemmatizer.lemmatize(word) for word in tokens]\n",
    "\n",
    "# displaying the results\n",
    "data[\"Tweet Text\"] = data[\"Tweet Text\"].apply(lemmatize_text)\n",
    "data[\"Tweet Text\"]"
   ]
  },
  {
   "cell_type": "markdown",
   "id": "ed9821e7-473a-4a0b-b84c-354ea13300cb",
   "metadata": {},
   "source": [
    "# 5. EDA"
   ]
  },
  {
   "cell_type": "markdown",
   "id": "b6c6637c-cd2a-45a5-b32c-cef4656f05cf",
   "metadata": {},
   "source": [
    "## 5.1 Univariate Analysis"
   ]
  },
  {
   "cell_type": "code",
   "execution_count": 27,
   "id": "0eb98994-b714-4e17-8bd2-8d9ba28226d1",
   "metadata": {},
   "outputs": [
    {
     "ename": "KeyError",
     "evalue": "'Tweet Text'",
     "output_type": "error",
     "traceback": [
      "\u001b[0;31m---------------------------------------------------------------------------\u001b[0m",
      "\u001b[0;31mKeyError\u001b[0m                                  Traceback (most recent call last)",
      "File \u001b[0;32m~/myenv/lib/python3.12/site-packages/pandas/core/indexes/base.py:3805\u001b[0m, in \u001b[0;36mIndex.get_loc\u001b[0;34m(self, key)\u001b[0m\n\u001b[1;32m   3804\u001b[0m \u001b[38;5;28;01mtry\u001b[39;00m:\n\u001b[0;32m-> 3805\u001b[0m     \u001b[38;5;28;01mreturn\u001b[39;00m \u001b[38;5;28;43mself\u001b[39;49m\u001b[38;5;241;43m.\u001b[39;49m\u001b[43m_engine\u001b[49m\u001b[38;5;241;43m.\u001b[39;49m\u001b[43mget_loc\u001b[49m\u001b[43m(\u001b[49m\u001b[43mcasted_key\u001b[49m\u001b[43m)\u001b[49m\n\u001b[1;32m   3806\u001b[0m \u001b[38;5;28;01mexcept\u001b[39;00m \u001b[38;5;167;01mKeyError\u001b[39;00m \u001b[38;5;28;01mas\u001b[39;00m err:\n",
      "File \u001b[0;32mindex.pyx:167\u001b[0m, in \u001b[0;36mpandas._libs.index.IndexEngine.get_loc\u001b[0;34m()\u001b[0m\n",
      "File \u001b[0;32mindex.pyx:196\u001b[0m, in \u001b[0;36mpandas._libs.index.IndexEngine.get_loc\u001b[0;34m()\u001b[0m\n",
      "File \u001b[0;32mpandas/_libs/hashtable_class_helper.pxi:7081\u001b[0m, in \u001b[0;36mpandas._libs.hashtable.PyObjectHashTable.get_item\u001b[0;34m()\u001b[0m\n",
      "File \u001b[0;32mpandas/_libs/hashtable_class_helper.pxi:7089\u001b[0m, in \u001b[0;36mpandas._libs.hashtable.PyObjectHashTable.get_item\u001b[0;34m()\u001b[0m\n",
      "\u001b[0;31mKeyError\u001b[0m: 'Tweet Text'",
      "\nThe above exception was the direct cause of the following exception:\n",
      "\u001b[0;31mKeyError\u001b[0m                                  Traceback (most recent call last)",
      "Cell \u001b[0;32mIn[27], line 2\u001b[0m\n\u001b[1;32m      1\u001b[0m \u001b[38;5;66;03m# convert tweet_text values into string to enable plotting of the word cloud\u001b[39;00m\n\u001b[0;32m----> 2\u001b[0m df[\u001b[38;5;124m\"\u001b[39m\u001b[38;5;124mTweet Text\u001b[39m\u001b[38;5;124m\"\u001b[39m] \u001b[38;5;241m=\u001b[39m \u001b[43mdf\u001b[49m\u001b[43m[\u001b[49m\u001b[38;5;124;43m\"\u001b[39;49m\u001b[38;5;124;43mTweet Text\u001b[39;49m\u001b[38;5;124;43m\"\u001b[39;49m\u001b[43m]\u001b[49m\u001b[38;5;241m.\u001b[39mastype(\u001b[38;5;28mstr\u001b[39m)\n\u001b[1;32m      4\u001b[0m \u001b[38;5;66;03m# plot the figure size\u001b[39;00m\n\u001b[1;32m      5\u001b[0m plt\u001b[38;5;241m.\u001b[39mfigure(figsize \u001b[38;5;241m=\u001b[39m (\u001b[38;5;241m10\u001b[39m, \u001b[38;5;241m6\u001b[39m))\n",
      "File \u001b[0;32m~/myenv/lib/python3.12/site-packages/pandas/core/frame.py:4102\u001b[0m, in \u001b[0;36mDataFrame.__getitem__\u001b[0;34m(self, key)\u001b[0m\n\u001b[1;32m   4100\u001b[0m \u001b[38;5;28;01mif\u001b[39;00m \u001b[38;5;28mself\u001b[39m\u001b[38;5;241m.\u001b[39mcolumns\u001b[38;5;241m.\u001b[39mnlevels \u001b[38;5;241m>\u001b[39m \u001b[38;5;241m1\u001b[39m:\n\u001b[1;32m   4101\u001b[0m     \u001b[38;5;28;01mreturn\u001b[39;00m \u001b[38;5;28mself\u001b[39m\u001b[38;5;241m.\u001b[39m_getitem_multilevel(key)\n\u001b[0;32m-> 4102\u001b[0m indexer \u001b[38;5;241m=\u001b[39m \u001b[38;5;28;43mself\u001b[39;49m\u001b[38;5;241;43m.\u001b[39;49m\u001b[43mcolumns\u001b[49m\u001b[38;5;241;43m.\u001b[39;49m\u001b[43mget_loc\u001b[49m\u001b[43m(\u001b[49m\u001b[43mkey\u001b[49m\u001b[43m)\u001b[49m\n\u001b[1;32m   4103\u001b[0m \u001b[38;5;28;01mif\u001b[39;00m is_integer(indexer):\n\u001b[1;32m   4104\u001b[0m     indexer \u001b[38;5;241m=\u001b[39m [indexer]\n",
      "File \u001b[0;32m~/myenv/lib/python3.12/site-packages/pandas/core/indexes/base.py:3812\u001b[0m, in \u001b[0;36mIndex.get_loc\u001b[0;34m(self, key)\u001b[0m\n\u001b[1;32m   3807\u001b[0m     \u001b[38;5;28;01mif\u001b[39;00m \u001b[38;5;28misinstance\u001b[39m(casted_key, \u001b[38;5;28mslice\u001b[39m) \u001b[38;5;129;01mor\u001b[39;00m (\n\u001b[1;32m   3808\u001b[0m         \u001b[38;5;28misinstance\u001b[39m(casted_key, abc\u001b[38;5;241m.\u001b[39mIterable)\n\u001b[1;32m   3809\u001b[0m         \u001b[38;5;129;01mand\u001b[39;00m \u001b[38;5;28many\u001b[39m(\u001b[38;5;28misinstance\u001b[39m(x, \u001b[38;5;28mslice\u001b[39m) \u001b[38;5;28;01mfor\u001b[39;00m x \u001b[38;5;129;01min\u001b[39;00m casted_key)\n\u001b[1;32m   3810\u001b[0m     ):\n\u001b[1;32m   3811\u001b[0m         \u001b[38;5;28;01mraise\u001b[39;00m InvalidIndexError(key)\n\u001b[0;32m-> 3812\u001b[0m     \u001b[38;5;28;01mraise\u001b[39;00m \u001b[38;5;167;01mKeyError\u001b[39;00m(key) \u001b[38;5;28;01mfrom\u001b[39;00m \u001b[38;5;21;01merr\u001b[39;00m\n\u001b[1;32m   3813\u001b[0m \u001b[38;5;28;01mexcept\u001b[39;00m \u001b[38;5;167;01mTypeError\u001b[39;00m:\n\u001b[1;32m   3814\u001b[0m     \u001b[38;5;66;03m# If we have a listlike key, _check_indexing_error will raise\u001b[39;00m\n\u001b[1;32m   3815\u001b[0m     \u001b[38;5;66;03m#  InvalidIndexError. Otherwise we fall through and re-raise\u001b[39;00m\n\u001b[1;32m   3816\u001b[0m     \u001b[38;5;66;03m#  the TypeError.\u001b[39;00m\n\u001b[1;32m   3817\u001b[0m     \u001b[38;5;28mself\u001b[39m\u001b[38;5;241m.\u001b[39m_check_indexing_error(key)\n",
      "\u001b[0;31mKeyError\u001b[0m: 'Tweet Text'"
     ]
    }
   ],
   "source": [
    "# convert tweet_text values into string to enable plotting of the word cloud\n",
    "df[\"Tweet Text\"] = df[\"Tweet Text\"].astype(str)\n",
    "\n",
    "# plot the figure size\n",
    "plt.figure(figsize = (10, 6))\n",
    "\n",
    "# generate a word cloud from the data\n",
    "word_cloud = WordCloud(width = 600, height = 400).generate(\"\".join(df[\"Tweet Text\"]))\n",
    "\n",
    "# plot\n",
    "plt.imshow(word_cloud, interpolation = \"bilinear\")\n",
    "plt.title(\"Word cloud visual after cleaning\")\n",
    "plt.axis(\"off\")\n",
    "\n",
    "# display the wordcloud\n",
    "plt.show()"
   ]
  },
  {
   "cell_type": "code",
   "execution_count": null,
   "id": "f998f6c1-972b-4225-9f05-666ea6921d3b",
   "metadata": {},
   "outputs": [],
   "source": []
  }
 ],
 "metadata": {
  "kernelspec": {
   "display_name": "Python (myenv)",
   "language": "python",
   "name": "myenv"
  },
  "language_info": {
   "codemirror_mode": {
    "name": "ipython",
    "version": 3
   },
   "file_extension": ".py",
   "mimetype": "text/x-python",
   "name": "python",
   "nbconvert_exporter": "python",
   "pygments_lexer": "ipython3",
   "version": "3.12.3"
  }
 },
 "nbformat": 4,
 "nbformat_minor": 5
}
